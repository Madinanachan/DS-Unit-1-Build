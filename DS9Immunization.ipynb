{
  "nbformat": 4,
  "nbformat_minor": 0,
  "metadata": {
    "colab": {
      "name": "DS9Immunization",
      "provenance": [],
      "toc_visible": true,
      "include_colab_link": true
    },
    "kernelspec": {
      "name": "python3",
      "display_name": "Python 3"
    }
  },
  "cells": [
    {
      "cell_type": "markdown",
      "metadata": {
        "id": "view-in-github",
        "colab_type": "text"
      },
      "source": [
        "<a href=\"https://colab.research.google.com/github/Madinanachan/DS-Unit-1-Build/blob/master/DS9Immunization.ipynb\" target=\"_parent\"><img src=\"https://colab.research.google.com/assets/colab-badge.svg\" alt=\"Open In Colab\"/></a>"
      ]
    },
    {
      "cell_type": "markdown",
      "metadata": {
        "id": "uKPEGsXQiIe7",
        "colab_type": "text"
      },
      "source": [
        "##Step 1: Clean Dataframes and Merge"
      ]
    },
    {
      "cell_type": "code",
      "metadata": {
        "id": "L2K5kNEPSyrA",
        "colab_type": "code",
        "outputId": "d215787a-2a6a-40a6-91e4-a8218761dbf1",
        "colab": {
          "resources": {
            "http://localhost:8080/nbextensions/google.colab/files.js": {
              "data": "Ly8gQ29weXJpZ2h0IDIwMTcgR29vZ2xlIExMQwovLwovLyBMaWNlbnNlZCB1bmRlciB0aGUgQXBhY2hlIExpY2Vuc2UsIFZlcnNpb24gMi4wICh0aGUgIkxpY2Vuc2UiKTsKLy8geW91IG1heSBub3QgdXNlIHRoaXMgZmlsZSBleGNlcHQgaW4gY29tcGxpYW5jZSB3aXRoIHRoZSBMaWNlbnNlLgovLyBZb3UgbWF5IG9idGFpbiBhIGNvcHkgb2YgdGhlIExpY2Vuc2UgYXQKLy8KLy8gICAgICBodHRwOi8vd3d3LmFwYWNoZS5vcmcvbGljZW5zZXMvTElDRU5TRS0yLjAKLy8KLy8gVW5sZXNzIHJlcXVpcmVkIGJ5IGFwcGxpY2FibGUgbGF3IG9yIGFncmVlZCB0byBpbiB3cml0aW5nLCBzb2Z0d2FyZQovLyBkaXN0cmlidXRlZCB1bmRlciB0aGUgTGljZW5zZSBpcyBkaXN0cmlidXRlZCBvbiBhbiAiQVMgSVMiIEJBU0lTLAovLyBXSVRIT1VUIFdBUlJBTlRJRVMgT1IgQ09ORElUSU9OUyBPRiBBTlkgS0lORCwgZWl0aGVyIGV4cHJlc3Mgb3IgaW1wbGllZC4KLy8gU2VlIHRoZSBMaWNlbnNlIGZvciB0aGUgc3BlY2lmaWMgbGFuZ3VhZ2UgZ292ZXJuaW5nIHBlcm1pc3Npb25zIGFuZAovLyBsaW1pdGF0aW9ucyB1bmRlciB0aGUgTGljZW5zZS4KCi8qKgogKiBAZmlsZW92ZXJ2aWV3IEhlbHBlcnMgZm9yIGdvb2dsZS5jb2xhYiBQeXRob24gbW9kdWxlLgogKi8KKGZ1bmN0aW9uKHNjb3BlKSB7CmZ1bmN0aW9uIHNwYW4odGV4dCwgc3R5bGVBdHRyaWJ1dGVzID0ge30pIHsKICBjb25zdCBlbGVtZW50ID0gZG9jdW1lbnQuY3JlYXRlRWxlbWVudCgnc3BhbicpOwogIGVsZW1lbnQudGV4dENvbnRlbnQgPSB0ZXh0OwogIGZvciAoY29uc3Qga2V5IG9mIE9iamVjdC5rZXlzKHN0eWxlQXR0cmlidXRlcykpIHsKICAgIGVsZW1lbnQuc3R5bGVba2V5XSA9IHN0eWxlQXR0cmlidXRlc1trZXldOwogIH0KICByZXR1cm4gZWxlbWVudDsKfQoKLy8gTWF4IG51bWJlciBvZiBieXRlcyB3aGljaCB3aWxsIGJlIHVwbG9hZGVkIGF0IGEgdGltZS4KY29uc3QgTUFYX1BBWUxPQURfU0laRSA9IDEwMCAqIDEwMjQ7Ci8vIE1heCBhbW91bnQgb2YgdGltZSB0byBibG9jayB3YWl0aW5nIGZvciB0aGUgdXNlci4KY29uc3QgRklMRV9DSEFOR0VfVElNRU9VVF9NUyA9IDMwICogMTAwMDsKCmZ1bmN0aW9uIF91cGxvYWRGaWxlcyhpbnB1dElkLCBvdXRwdXRJZCkgewogIGNvbnN0IHN0ZXBzID0gdXBsb2FkRmlsZXNTdGVwKGlucHV0SWQsIG91dHB1dElkKTsKICBjb25zdCBvdXRwdXRFbGVtZW50ID0gZG9jdW1lbnQuZ2V0RWxlbWVudEJ5SWQob3V0cHV0SWQpOwogIC8vIENhY2hlIHN0ZXBzIG9uIHRoZSBvdXRwdXRFbGVtZW50IHRvIG1ha2UgaXQgYXZhaWxhYmxlIGZvciB0aGUgbmV4dCBjYWxsCiAgLy8gdG8gdXBsb2FkRmlsZXNDb250aW51ZSBmcm9tIFB5dGhvbi4KICBvdXRwdXRFbGVtZW50LnN0ZXBzID0gc3RlcHM7CgogIHJldHVybiBfdXBsb2FkRmlsZXNDb250aW51ZShvdXRwdXRJZCk7Cn0KCi8vIFRoaXMgaXMgcm91Z2hseSBhbiBhc3luYyBnZW5lcmF0b3IgKG5vdCBzdXBwb3J0ZWQgaW4gdGhlIGJyb3dzZXIgeWV0KSwKLy8gd2hlcmUgdGhlcmUgYXJlIG11bHRpcGxlIGFzeW5jaHJvbm91cyBzdGVwcyBhbmQgdGhlIFB5dGhvbiBzaWRlIGlzIGdvaW5nCi8vIHRvIHBvbGwgZm9yIGNvbXBsZXRpb24gb2YgZWFjaCBzdGVwLgovLyBUaGlzIHVzZXMgYSBQcm9taXNlIHRvIGJsb2NrIHRoZSBweXRob24gc2lkZSBvbiBjb21wbGV0aW9uIG9mIGVhY2ggc3RlcCwKLy8gdGhlbiBwYXNzZXMgdGhlIHJlc3VsdCBvZiB0aGUgcHJldmlvdXMgc3RlcCBhcyB0aGUgaW5wdXQgdG8gdGhlIG5leHQgc3RlcC4KZnVuY3Rpb24gX3VwbG9hZEZpbGVzQ29udGludWUob3V0cHV0SWQpIHsKICBjb25zdCBvdXRwdXRFbGVtZW50ID0gZG9jdW1lbnQuZ2V0RWxlbWVudEJ5SWQob3V0cHV0SWQpOwogIGNvbnN0IHN0ZXBzID0gb3V0cHV0RWxlbWVudC5zdGVwczsKCiAgY29uc3QgbmV4dCA9IHN0ZXBzLm5leHQob3V0cHV0RWxlbWVudC5sYXN0UHJvbWlzZVZhbHVlKTsKICByZXR1cm4gUHJvbWlzZS5yZXNvbHZlKG5leHQudmFsdWUucHJvbWlzZSkudGhlbigodmFsdWUpID0+IHsKICAgIC8vIENhY2hlIHRoZSBsYXN0IHByb21pc2UgdmFsdWUgdG8gbWFrZSBpdCBhdmFpbGFibGUgdG8gdGhlIG5leHQKICAgIC8vIHN0ZXAgb2YgdGhlIGdlbmVyYXRvci4KICAgIG91dHB1dEVsZW1lbnQubGFzdFByb21pc2VWYWx1ZSA9IHZhbHVlOwogICAgcmV0dXJuIG5leHQudmFsdWUucmVzcG9uc2U7CiAgfSk7Cn0KCi8qKgogKiBHZW5lcmF0b3IgZnVuY3Rpb24gd2hpY2ggaXMgY2FsbGVkIGJldHdlZW4gZWFjaCBhc3luYyBzdGVwIG9mIHRoZSB1cGxvYWQKICogcHJvY2Vzcy4KICogQHBhcmFtIHtzdHJpbmd9IGlucHV0SWQgRWxlbWVudCBJRCBvZiB0aGUgaW5wdXQgZmlsZSBwaWNrZXIgZWxlbWVudC4KICogQHBhcmFtIHtzdHJpbmd9IG91dHB1dElkIEVsZW1lbnQgSUQgb2YgdGhlIG91dHB1dCBkaXNwbGF5LgogKiBAcmV0dXJuIHshSXRlcmFibGU8IU9iamVjdD59IEl0ZXJhYmxlIG9mIG5leHQgc3RlcHMuCiAqLwpmdW5jdGlvbiogdXBsb2FkRmlsZXNTdGVwKGlucHV0SWQsIG91dHB1dElkKSB7CiAgY29uc3QgaW5wdXRFbGVtZW50ID0gZG9jdW1lbnQuZ2V0RWxlbWVudEJ5SWQoaW5wdXRJZCk7CiAgaW5wdXRFbGVtZW50LmRpc2FibGVkID0gZmFsc2U7CgogIGNvbnN0IG91dHB1dEVsZW1lbnQgPSBkb2N1bWVudC5nZXRFbGVtZW50QnlJZChvdXRwdXRJZCk7CiAgb3V0cHV0RWxlbWVudC5pbm5lckhUTUwgPSAnJzsKCiAgY29uc3QgcGlja2VkUHJvbWlzZSA9IG5ldyBQcm9taXNlKChyZXNvbHZlKSA9PiB7CiAgICBpbnB1dEVsZW1lbnQuYWRkRXZlbnRMaXN0ZW5lcignY2hhbmdlJywgKGUpID0+IHsKICAgICAgcmVzb2x2ZShlLnRhcmdldC5maWxlcyk7CiAgICB9KTsKICB9KTsKCiAgY29uc3QgY2FuY2VsID0gZG9jdW1lbnQuY3JlYXRlRWxlbWVudCgnYnV0dG9uJyk7CiAgaW5wdXRFbGVtZW50LnBhcmVudEVsZW1lbnQuYXBwZW5kQ2hpbGQoY2FuY2VsKTsKICBjYW5jZWwudGV4dENvbnRlbnQgPSAnQ2FuY2VsIHVwbG9hZCc7CiAgY29uc3QgY2FuY2VsUHJvbWlzZSA9IG5ldyBQcm9taXNlKChyZXNvbHZlKSA9PiB7CiAgICBjYW5jZWwub25jbGljayA9ICgpID0+IHsKICAgICAgcmVzb2x2ZShudWxsKTsKICAgIH07CiAgfSk7CgogIC8vIENhbmNlbCB1cGxvYWQgaWYgdXNlciBoYXNuJ3QgcGlja2VkIGFueXRoaW5nIGluIHRpbWVvdXQuCiAgY29uc3QgdGltZW91dFByb21pc2UgPSBuZXcgUHJvbWlzZSgocmVzb2x2ZSkgPT4gewogICAgc2V0VGltZW91dCgoKSA9PiB7CiAgICAgIHJlc29sdmUobnVsbCk7CiAgICB9LCBGSUxFX0NIQU5HRV9USU1FT1VUX01TKTsKICB9KTsKCiAgLy8gV2FpdCBmb3IgdGhlIHVzZXIgdG8gcGljayB0aGUgZmlsZXMuCiAgY29uc3QgZmlsZXMgPSB5aWVsZCB7CiAgICBwcm9taXNlOiBQcm9taXNlLnJhY2UoW3BpY2tlZFByb21pc2UsIHRpbWVvdXRQcm9taXNlLCBjYW5jZWxQcm9taXNlXSksCiAgICByZXNwb25zZTogewogICAgICBhY3Rpb246ICdzdGFydGluZycsCiAgICB9CiAgfTsKCiAgaWYgKCFmaWxlcykgewogICAgcmV0dXJuIHsKICAgICAgcmVzcG9uc2U6IHsKICAgICAgICBhY3Rpb246ICdjb21wbGV0ZScsCiAgICAgIH0KICAgIH07CiAgfQoKICBjYW5jZWwucmVtb3ZlKCk7CgogIC8vIERpc2FibGUgdGhlIGlucHV0IGVsZW1lbnQgc2luY2UgZnVydGhlciBwaWNrcyBhcmUgbm90IGFsbG93ZWQuCiAgaW5wdXRFbGVtZW50LmRpc2FibGVkID0gdHJ1ZTsKCiAgZm9yIChjb25zdCBmaWxlIG9mIGZpbGVzKSB7CiAgICBjb25zdCBsaSA9IGRvY3VtZW50LmNyZWF0ZUVsZW1lbnQoJ2xpJyk7CiAgICBsaS5hcHBlbmQoc3BhbihmaWxlLm5hbWUsIHtmb250V2VpZ2h0OiAnYm9sZCd9KSk7CiAgICBsaS5hcHBlbmQoc3BhbigKICAgICAgICBgKCR7ZmlsZS50eXBlIHx8ICduL2EnfSkgLSAke2ZpbGUuc2l6ZX0gYnl0ZXMsIGAgKwogICAgICAgIGBsYXN0IG1vZGlmaWVkOiAkewogICAgICAgICAgICBmaWxlLmxhc3RNb2RpZmllZERhdGUgPyBmaWxlLmxhc3RNb2RpZmllZERhdGUudG9Mb2NhbGVEYXRlU3RyaW5nKCkgOgogICAgICAgICAgICAgICAgICAgICAgICAgICAgICAgICAgICAnbi9hJ30gLSBgKSk7CiAgICBjb25zdCBwZXJjZW50ID0gc3BhbignMCUgZG9uZScpOwogICAgbGkuYXBwZW5kQ2hpbGQocGVyY2VudCk7CgogICAgb3V0cHV0RWxlbWVudC5hcHBlbmRDaGlsZChsaSk7CgogICAgY29uc3QgZmlsZURhdGFQcm9taXNlID0gbmV3IFByb21pc2UoKHJlc29sdmUpID0+IHsKICAgICAgY29uc3QgcmVhZGVyID0gbmV3IEZpbGVSZWFkZXIoKTsKICAgICAgcmVhZGVyLm9ubG9hZCA9IChlKSA9PiB7CiAgICAgICAgcmVzb2x2ZShlLnRhcmdldC5yZXN1bHQpOwogICAgICB9OwogICAgICByZWFkZXIucmVhZEFzQXJyYXlCdWZmZXIoZmlsZSk7CiAgICB9KTsKICAgIC8vIFdhaXQgZm9yIHRoZSBkYXRhIHRvIGJlIHJlYWR5LgogICAgbGV0IGZpbGVEYXRhID0geWllbGQgewogICAgICBwcm9taXNlOiBmaWxlRGF0YVByb21pc2UsCiAgICAgIHJlc3BvbnNlOiB7CiAgICAgICAgYWN0aW9uOiAnY29udGludWUnLAogICAgICB9CiAgICB9OwoKICAgIC8vIFVzZSBhIGNodW5rZWQgc2VuZGluZyB0byBhdm9pZCBtZXNzYWdlIHNpemUgbGltaXRzLiBTZWUgYi82MjExNTY2MC4KICAgIGxldCBwb3NpdGlvbiA9IDA7CiAgICB3aGlsZSAocG9zaXRpb24gPCBmaWxlRGF0YS5ieXRlTGVuZ3RoKSB7CiAgICAgIGNvbnN0IGxlbmd0aCA9IE1hdGgubWluKGZpbGVEYXRhLmJ5dGVMZW5ndGggLSBwb3NpdGlvbiwgTUFYX1BBWUxPQURfU0laRSk7CiAgICAgIGNvbnN0IGNodW5rID0gbmV3IFVpbnQ4QXJyYXkoZmlsZURhdGEsIHBvc2l0aW9uLCBsZW5ndGgpOwogICAgICBwb3NpdGlvbiArPSBsZW5ndGg7CgogICAgICBjb25zdCBiYXNlNjQgPSBidG9hKFN0cmluZy5mcm9tQ2hhckNvZGUuYXBwbHkobnVsbCwgY2h1bmspKTsKICAgICAgeWllbGQgewogICAgICAgIHJlc3BvbnNlOiB7CiAgICAgICAgICBhY3Rpb246ICdhcHBlbmQnLAogICAgICAgICAgZmlsZTogZmlsZS5uYW1lLAogICAgICAgICAgZGF0YTogYmFzZTY0LAogICAgICAgIH0sCiAgICAgIH07CiAgICAgIHBlcmNlbnQudGV4dENvbnRlbnQgPQogICAgICAgICAgYCR7TWF0aC5yb3VuZCgocG9zaXRpb24gLyBmaWxlRGF0YS5ieXRlTGVuZ3RoKSAqIDEwMCl9JSBkb25lYDsKICAgIH0KICB9CgogIC8vIEFsbCBkb25lLgogIHlpZWxkIHsKICAgIHJlc3BvbnNlOiB7CiAgICAgIGFjdGlvbjogJ2NvbXBsZXRlJywKICAgIH0KICB9Owp9CgpzY29wZS5nb29nbGUgPSBzY29wZS5nb29nbGUgfHwge307CnNjb3BlLmdvb2dsZS5jb2xhYiA9IHNjb3BlLmdvb2dsZS5jb2xhYiB8fCB7fTsKc2NvcGUuZ29vZ2xlLmNvbGFiLl9maWxlcyA9IHsKICBfdXBsb2FkRmlsZXMsCiAgX3VwbG9hZEZpbGVzQ29udGludWUsCn07Cn0pKHNlbGYpOwo=",
              "ok": true,
              "headers": [
                [
                  "content-type",
                  "application/javascript"
                ]
              ],
              "status": 200,
              "status_text": ""
            }
          },
          "base_uri": "https://localhost:8080/",
          "height": 417
        }
      },
      "source": [
        "from google.colab import files\n",
        "\n",
        "uploaded=files.upload()"
      ],
      "execution_count": 0,
      "outputs": [
        {
          "output_type": "display_data",
          "data": {
            "text/html": [
              "\n",
              "     <input type=\"file\" id=\"files-d681c01f-307a-452f-ad67-1e2d29bb273f\" name=\"files[]\" multiple disabled />\n",
              "     <output id=\"result-d681c01f-307a-452f-ad67-1e2d29bb273f\">\n",
              "      Upload widget is only available when the cell has been executed in the\n",
              "      current browser session. Please rerun this cell to enable.\n",
              "      </output>\n",
              "      <script src=\"/nbextensions/google.colab/files.js\"></script> "
            ],
            "text/plain": [
              "<IPython.core.display.HTML object>"
            ]
          },
          "metadata": {
            "tags": []
          }
        },
        {
          "output_type": "stream",
          "text": [
            "Saving iz_kindergarten2016-17_to_2018-19_school_year.csv to iz_kindergarten2016-17_to_2018-19_school_year (1).csv\n",
            "Saving school-immunizations-in-kindergarten-by-academic-year-2013-2014-to-2015-16.csv to school-immunizations-in-kindergarten-by-academic-year-2013-2014-to-2015-16 (1).csv\n"
          ],
          "name": "stdout"
        },
        {
          "output_type": "error",
          "ename": "KeyboardInterrupt",
          "evalue": "ignored",
          "traceback": [
            "\u001b[0;31m---------------------------------------------------------------------------\u001b[0m",
            "\u001b[0;31mKeyboardInterrupt\u001b[0m                         Traceback (most recent call last)",
            "\u001b[0;32m<ipython-input-32-96e0112964c7>\u001b[0m in \u001b[0;36m<module>\u001b[0;34m()\u001b[0m\n\u001b[1;32m      1\u001b[0m \u001b[0;32mfrom\u001b[0m \u001b[0mgoogle\u001b[0m\u001b[0;34m.\u001b[0m\u001b[0mcolab\u001b[0m \u001b[0;32mimport\u001b[0m \u001b[0mfiles\u001b[0m\u001b[0;34m\u001b[0m\u001b[0;34m\u001b[0m\u001b[0m\n\u001b[1;32m      2\u001b[0m \u001b[0;34m\u001b[0m\u001b[0m\n\u001b[0;32m----> 3\u001b[0;31m \u001b[0muploaded\u001b[0m\u001b[0;34m=\u001b[0m\u001b[0mfiles\u001b[0m\u001b[0;34m.\u001b[0m\u001b[0mupload\u001b[0m\u001b[0;34m(\u001b[0m\u001b[0;34m)\u001b[0m\u001b[0;34m\u001b[0m\u001b[0;34m\u001b[0m\u001b[0m\n\u001b[0m",
            "\u001b[0;32m/usr/local/lib/python3.6/dist-packages/google/colab/files.py\u001b[0m in \u001b[0;36mupload\u001b[0;34m()\u001b[0m\n\u001b[1;32m     70\u001b[0m     result = _output.eval_js(\n\u001b[1;32m     71\u001b[0m         'google.colab._files._uploadFilesContinue(\"{output_id}\")'.format(\n\u001b[0;32m---> 72\u001b[0;31m             output_id=output_id))\n\u001b[0m\u001b[1;32m     73\u001b[0m     \u001b[0;32mif\u001b[0m \u001b[0mresult\u001b[0m\u001b[0;34m[\u001b[0m\u001b[0;34m'action'\u001b[0m\u001b[0;34m]\u001b[0m \u001b[0;34m!=\u001b[0m \u001b[0;34m'append'\u001b[0m\u001b[0;34m:\u001b[0m\u001b[0;34m\u001b[0m\u001b[0;34m\u001b[0m\u001b[0m\n\u001b[1;32m     74\u001b[0m       \u001b[0;31m# JS side uses a generator of promises to process all of the files- some\u001b[0m\u001b[0;34m\u001b[0m\u001b[0;34m\u001b[0m\u001b[0;34m\u001b[0m\u001b[0m\n",
            "\u001b[0;32m/usr/local/lib/python3.6/dist-packages/google/colab/output/_js.py\u001b[0m in \u001b[0;36meval_js\u001b[0;34m(script, ignore_result)\u001b[0m\n\u001b[1;32m     37\u001b[0m   \u001b[0;32mif\u001b[0m \u001b[0mignore_result\u001b[0m\u001b[0;34m:\u001b[0m\u001b[0;34m\u001b[0m\u001b[0;34m\u001b[0m\u001b[0m\n\u001b[1;32m     38\u001b[0m     \u001b[0;32mreturn\u001b[0m\u001b[0;34m\u001b[0m\u001b[0;34m\u001b[0m\u001b[0m\n\u001b[0;32m---> 39\u001b[0;31m   \u001b[0;32mreturn\u001b[0m \u001b[0m_message\u001b[0m\u001b[0;34m.\u001b[0m\u001b[0mread_reply_from_input\u001b[0m\u001b[0;34m(\u001b[0m\u001b[0mrequest_id\u001b[0m\u001b[0;34m)\u001b[0m\u001b[0;34m\u001b[0m\u001b[0;34m\u001b[0m\u001b[0m\n\u001b[0m\u001b[1;32m     40\u001b[0m \u001b[0;34m\u001b[0m\u001b[0m\n\u001b[1;32m     41\u001b[0m \u001b[0;34m\u001b[0m\u001b[0m\n",
            "\u001b[0;32m/usr/local/lib/python3.6/dist-packages/google/colab/_message.py\u001b[0m in \u001b[0;36mread_reply_from_input\u001b[0;34m(message_id, timeout_sec)\u001b[0m\n\u001b[1;32m     99\u001b[0m     \u001b[0mreply\u001b[0m \u001b[0;34m=\u001b[0m \u001b[0m_read_next_input_message\u001b[0m\u001b[0;34m(\u001b[0m\u001b[0;34m)\u001b[0m\u001b[0;34m\u001b[0m\u001b[0;34m\u001b[0m\u001b[0m\n\u001b[1;32m    100\u001b[0m     \u001b[0;32mif\u001b[0m \u001b[0mreply\u001b[0m \u001b[0;34m==\u001b[0m \u001b[0m_NOT_READY\u001b[0m \u001b[0;32mor\u001b[0m \u001b[0;32mnot\u001b[0m \u001b[0misinstance\u001b[0m\u001b[0;34m(\u001b[0m\u001b[0mreply\u001b[0m\u001b[0;34m,\u001b[0m \u001b[0mdict\u001b[0m\u001b[0;34m)\u001b[0m\u001b[0;34m:\u001b[0m\u001b[0;34m\u001b[0m\u001b[0;34m\u001b[0m\u001b[0m\n\u001b[0;32m--> 101\u001b[0;31m       \u001b[0mtime\u001b[0m\u001b[0;34m.\u001b[0m\u001b[0msleep\u001b[0m\u001b[0;34m(\u001b[0m\u001b[0;36m0.025\u001b[0m\u001b[0;34m)\u001b[0m\u001b[0;34m\u001b[0m\u001b[0;34m\u001b[0m\u001b[0m\n\u001b[0m\u001b[1;32m    102\u001b[0m       \u001b[0;32mcontinue\u001b[0m\u001b[0;34m\u001b[0m\u001b[0;34m\u001b[0m\u001b[0m\n\u001b[1;32m    103\u001b[0m     if (reply.get('type') == 'colab_reply' and\n",
            "\u001b[0;31mKeyboardInterrupt\u001b[0m: "
          ]
        }
      ]
    },
    {
      "cell_type": "code",
      "metadata": {
        "id": "9DpkK8DVXzHJ",
        "colab_type": "code",
        "outputId": "9c6b7945-cd2a-41df-ea09-f68f3bdf43a3",
        "colab": {
          "base_uri": "https://localhost:8080/",
          "height": 479
        }
      },
      "source": [
        "import pandas as pd \n",
        "import numpy as np\n",
        "import matplotlib.pyplot as plt \n",
        "import seaborn as sns \n",
        "\n",
        "headers1=['School Year', 'School Code','County','School Type','Public School District','City', 'School Name','Enrollment', 'Reported', 'Category', 'Count', 'Percent']\n",
        "headers2=['School Year', 'School Code','County','School Type','Public School District','City', 'School Name','Reported', 'Enrollment', 'Category', 'Count', 'Percent']\n",
        "df1=pd.read_csv('school-immunizations-in-kindergarten-by-academic-year-2013-2014-to-2015-16.csv')\n",
        "df2=pd.read_csv('iz_kindergarten2016-17_to_2018-19_school_year.csv', encoding='latin1')\n",
        "\n",
        "df1.columns=headers1\n",
        "df2.columns=headers2\n",
        "\n",
        "df1.head()"
      ],
      "execution_count": 4,
      "outputs": [
        {
          "output_type": "stream",
          "text": [
            "/usr/local/lib/python3.6/dist-packages/IPython/core/interactiveshell.py:2718: DtypeWarning: Columns (4) have mixed types. Specify dtype option on import or set low_memory=False.\n",
            "  interactivity=interactivity, compiler=compiler, result=result)\n"
          ],
          "name": "stderr"
        },
        {
          "output_type": "execute_result",
          "data": {
            "text/html": [
              "<div>\n",
              "<style scoped>\n",
              "    .dataframe tbody tr th:only-of-type {\n",
              "        vertical-align: middle;\n",
              "    }\n",
              "\n",
              "    .dataframe tbody tr th {\n",
              "        vertical-align: top;\n",
              "    }\n",
              "\n",
              "    .dataframe thead th {\n",
              "        text-align: right;\n",
              "    }\n",
              "</style>\n",
              "<table border=\"1\" class=\"dataframe\">\n",
              "  <thead>\n",
              "    <tr style=\"text-align: right;\">\n",
              "      <th></th>\n",
              "      <th>School Year</th>\n",
              "      <th>School Code</th>\n",
              "      <th>County</th>\n",
              "      <th>School Type</th>\n",
              "      <th>Public School District</th>\n",
              "      <th>City</th>\n",
              "      <th>School Name</th>\n",
              "      <th>Enrollment</th>\n",
              "      <th>Reported</th>\n",
              "      <th>Category</th>\n",
              "      <th>Count</th>\n",
              "      <th>Percent</th>\n",
              "    </tr>\n",
              "  </thead>\n",
              "  <tbody>\n",
              "    <tr>\n",
              "      <th>0</th>\n",
              "      <td>2013-2014</td>\n",
              "      <td>6100374</td>\n",
              "      <td>ALAMEDA</td>\n",
              "      <td>PUBLIC</td>\n",
              "      <td>ALAMEDA UNIFIED</td>\n",
              "      <td>ALAMEDA</td>\n",
              "      <td>AMELIA EARHART ELEMENTARY</td>\n",
              "      <td>99.0</td>\n",
              "      <td>Y</td>\n",
              "      <td>HC  Practitioner Counseled PBE</td>\n",
              "      <td>0</td>\n",
              "      <td>0</td>\n",
              "    </tr>\n",
              "    <tr>\n",
              "      <th>1</th>\n",
              "      <td>2013-2014</td>\n",
              "      <td>6100374</td>\n",
              "      <td>ALAMEDA</td>\n",
              "      <td>PUBLIC</td>\n",
              "      <td>ALAMEDA UNIFIED</td>\n",
              "      <td>ALAMEDA</td>\n",
              "      <td>AMELIA EARHART ELEMENTARY</td>\n",
              "      <td>99.0</td>\n",
              "      <td>Y</td>\n",
              "      <td>PME</td>\n",
              "      <td>0</td>\n",
              "      <td>0</td>\n",
              "    </tr>\n",
              "    <tr>\n",
              "      <th>2</th>\n",
              "      <td>2013-2014</td>\n",
              "      <td>6100374</td>\n",
              "      <td>ALAMEDA</td>\n",
              "      <td>PUBLIC</td>\n",
              "      <td>ALAMEDA UNIFIED</td>\n",
              "      <td>ALAMEDA</td>\n",
              "      <td>AMELIA EARHART ELEMENTARY</td>\n",
              "      <td>99.0</td>\n",
              "      <td>Y</td>\n",
              "      <td>Pre-Jan PBE</td>\n",
              "      <td>0</td>\n",
              "      <td>0</td>\n",
              "    </tr>\n",
              "    <tr>\n",
              "      <th>3</th>\n",
              "      <td>2013-2014</td>\n",
              "      <td>6100374</td>\n",
              "      <td>ALAMEDA</td>\n",
              "      <td>PUBLIC</td>\n",
              "      <td>ALAMEDA UNIFIED</td>\n",
              "      <td>ALAMEDA</td>\n",
              "      <td>AMELIA EARHART ELEMENTARY</td>\n",
              "      <td>99.0</td>\n",
              "      <td>Y</td>\n",
              "      <td>Religious PBE</td>\n",
              "      <td>0</td>\n",
              "      <td>0</td>\n",
              "    </tr>\n",
              "    <tr>\n",
              "      <th>4</th>\n",
              "      <td>2014-2015</td>\n",
              "      <td>6100374</td>\n",
              "      <td>ALAMEDA</td>\n",
              "      <td>PUBLIC</td>\n",
              "      <td>ALAMEDA UNIFIED</td>\n",
              "      <td>ALAMEDA</td>\n",
              "      <td>AMELIA EARHART ELEMENTARY</td>\n",
              "      <td>128.0</td>\n",
              "      <td>Y</td>\n",
              "      <td>PME</td>\n",
              "      <td>0</td>\n",
              "      <td>0</td>\n",
              "    </tr>\n",
              "  </tbody>\n",
              "</table>\n",
              "</div>"
            ],
            "text/plain": [
              "  School Year  School Code  ... Count Percent\n",
              "0   2013-2014      6100374  ...     0       0\n",
              "1   2013-2014      6100374  ...     0       0\n",
              "2   2013-2014      6100374  ...     0       0\n",
              "3   2013-2014      6100374  ...     0       0\n",
              "4   2014-2015      6100374  ...     0       0\n",
              "\n",
              "[5 rows x 12 columns]"
            ]
          },
          "metadata": {
            "tags": []
          },
          "execution_count": 4
        }
      ]
    },
    {
      "cell_type": "code",
      "metadata": {
        "id": "3z9MgCzZbhKH",
        "colab_type": "code",
        "outputId": "7b2e7519-da10-4da5-d367-8c12d9b61802",
        "colab": {
          "base_uri": "https://localhost:8080/",
          "height": 238
        }
      },
      "source": [
        "df1.count()"
      ],
      "execution_count": 5,
      "outputs": [
        {
          "output_type": "execute_result",
          "data": {
            "text/plain": [
              "School Year               267204\n",
              "School Code               267204\n",
              "County                    267204\n",
              "School Type               267204\n",
              "Public School District    208068\n",
              "City                      267204\n",
              "School Name               267204\n",
              "Enrollment                253812\n",
              "Reported                  267204\n",
              "Category                  267204\n",
              "Count                     267204\n",
              "Percent                   267204\n",
              "dtype: int64"
            ]
          },
          "metadata": {
            "tags": []
          },
          "execution_count": 5
        }
      ]
    },
    {
      "cell_type": "code",
      "metadata": {
        "id": "TdvNsbMnb3do",
        "colab_type": "code",
        "outputId": "8d3e6e86-a1ce-419b-eb51-6a7afee9d8c6",
        "colab": {
          "base_uri": "https://localhost:8080/",
          "height": 238
        }
      },
      "source": [
        "df1.isnull().sum()"
      ],
      "execution_count": 6,
      "outputs": [
        {
          "output_type": "execute_result",
          "data": {
            "text/plain": [
              "School Year                   0\n",
              "School Code                   0\n",
              "County                        0\n",
              "School Type                   0\n",
              "Public School District    59136\n",
              "City                          0\n",
              "School Name                   0\n",
              "Enrollment                13392\n",
              "Reported                      0\n",
              "Category                      0\n",
              "Count                         0\n",
              "Percent                       0\n",
              "dtype: int64"
            ]
          },
          "metadata": {
            "tags": []
          },
          "execution_count": 6
        }
      ]
    },
    {
      "cell_type": "code",
      "metadata": {
        "id": "_7-XwkWlb5iq",
        "colab_type": "code",
        "outputId": "5305c219-9974-4daf-8d46-d1cee2ddcabf",
        "colab": {
          "base_uri": "https://localhost:8080/",
          "height": 238
        }
      },
      "source": [
        "df1=df1.replace({'.':np.NaN,})\n",
        "df1.isnull().sum()"
      ],
      "execution_count": 7,
      "outputs": [
        {
          "output_type": "execute_result",
          "data": {
            "text/plain": [
              "School Year                   0\n",
              "School Code                   0\n",
              "County                        0\n",
              "School Type                   0\n",
              "Public School District    59136\n",
              "City                          0\n",
              "School Name                   0\n",
              "Enrollment                13392\n",
              "Reported                      0\n",
              "Category                      0\n",
              "Count                     13392\n",
              "Percent                   13392\n",
              "dtype: int64"
            ]
          },
          "metadata": {
            "tags": []
          },
          "execution_count": 7
        }
      ]
    },
    {
      "cell_type": "code",
      "metadata": {
        "id": "yPuwbK_sblpO",
        "colab_type": "code",
        "outputId": "0b4d7a6c-6f1a-4460-8f59-dadab7743a24",
        "colab": {
          "base_uri": "https://localhost:8080/",
          "height": 238
        }
      },
      "source": [
        "df1.dtypes"
      ],
      "execution_count": 8,
      "outputs": [
        {
          "output_type": "execute_result",
          "data": {
            "text/plain": [
              "School Year                object\n",
              "School Code                 int64\n",
              "County                     object\n",
              "School Type                object\n",
              "Public School District     object\n",
              "City                       object\n",
              "School Name                object\n",
              "Enrollment                float64\n",
              "Reported                   object\n",
              "Category                   object\n",
              "Count                      object\n",
              "Percent                    object\n",
              "dtype: object"
            ]
          },
          "metadata": {
            "tags": []
          },
          "execution_count": 8
        }
      ]
    },
    {
      "cell_type": "code",
      "metadata": {
        "id": "saNvAaeybhFd",
        "colab_type": "code",
        "outputId": "321c1a83-f8bb-4cfd-d79d-221c632a093a",
        "colab": {
          "base_uri": "https://localhost:8080/",
          "height": 238
        }
      },
      "source": [
        "df1['Count']=pd.to_numeric(df1['Count'])#Types must match\n",
        "df1['Percent']=pd.to_numeric(df1['Percent'])\n",
        "\n",
        "df1.dtypes"
      ],
      "execution_count": 9,
      "outputs": [
        {
          "output_type": "execute_result",
          "data": {
            "text/plain": [
              "School Year                object\n",
              "School Code                 int64\n",
              "County                     object\n",
              "School Type                object\n",
              "Public School District     object\n",
              "City                       object\n",
              "School Name                object\n",
              "Enrollment                float64\n",
              "Reported                   object\n",
              "Category                   object\n",
              "Count                     float64\n",
              "Percent                   float64\n",
              "dtype: object"
            ]
          },
          "metadata": {
            "tags": []
          },
          "execution_count": 9
        }
      ]
    },
    {
      "cell_type": "code",
      "metadata": {
        "id": "VrGzIOUhNmaZ",
        "colab_type": "code",
        "outputId": "027f138e-f9c9-4010-858c-2d900b10b2b6",
        "colab": {
          "base_uri": "https://localhost:8080/",
          "height": 297
        }
      },
      "source": [
        "df1.loc[:,'Percent'] *= 100#Multiplying Percent so the two are same format\n",
        "df1.describe()"
      ],
      "execution_count": 10,
      "outputs": [
        {
          "output_type": "execute_result",
          "data": {
            "text/html": [
              "<div>\n",
              "<style scoped>\n",
              "    .dataframe tbody tr th:only-of-type {\n",
              "        vertical-align: middle;\n",
              "    }\n",
              "\n",
              "    .dataframe tbody tr th {\n",
              "        vertical-align: top;\n",
              "    }\n",
              "\n",
              "    .dataframe thead th {\n",
              "        text-align: right;\n",
              "    }\n",
              "</style>\n",
              "<table border=\"1\" class=\"dataframe\">\n",
              "  <thead>\n",
              "    <tr style=\"text-align: right;\">\n",
              "      <th></th>\n",
              "      <th>School Code</th>\n",
              "      <th>Enrollment</th>\n",
              "      <th>Count</th>\n",
              "      <th>Percent</th>\n",
              "    </tr>\n",
              "  </thead>\n",
              "  <tbody>\n",
              "    <tr>\n",
              "      <th>count</th>\n",
              "      <td>2.672040e+05</td>\n",
              "      <td>253812.000000</td>\n",
              "      <td>253812.000000</td>\n",
              "      <td>253812.000000</td>\n",
              "    </tr>\n",
              "    <tr>\n",
              "      <th>mean</th>\n",
              "      <td>5.505333e+06</td>\n",
              "      <td>76.122926</td>\n",
              "      <td>36.304454</td>\n",
              "      <td>47.259302</td>\n",
              "    </tr>\n",
              "    <tr>\n",
              "      <th>std</th>\n",
              "      <td>2.020543e+06</td>\n",
              "      <td>44.064897</td>\n",
              "      <td>46.315411</td>\n",
              "      <td>46.143604</td>\n",
              "    </tr>\n",
              "    <tr>\n",
              "      <th>min</th>\n",
              "      <td>1.000160e+05</td>\n",
              "      <td>10.000000</td>\n",
              "      <td>0.000000</td>\n",
              "      <td>0.000000</td>\n",
              "    </tr>\n",
              "    <tr>\n",
              "      <th>25%</th>\n",
              "      <td>6.015861e+06</td>\n",
              "      <td>41.000000</td>\n",
              "      <td>0.000000</td>\n",
              "      <td>0.000000</td>\n",
              "    </tr>\n",
              "    <tr>\n",
              "      <th>50%</th>\n",
              "      <td>6.043111e+06</td>\n",
              "      <td>74.000000</td>\n",
              "      <td>10.000000</td>\n",
              "      <td>37.000000</td>\n",
              "    </tr>\n",
              "    <tr>\n",
              "      <th>75%</th>\n",
              "      <td>6.115778e+06</td>\n",
              "      <td>104.000000</td>\n",
              "      <td>69.000000</td>\n",
              "      <td>96.000000</td>\n",
              "    </tr>\n",
              "    <tr>\n",
              "      <th>max</th>\n",
              "      <td>9.999999e+06</td>\n",
              "      <td>667.000000</td>\n",
              "      <td>529.000000</td>\n",
              "      <td>100.000000</td>\n",
              "    </tr>\n",
              "  </tbody>\n",
              "</table>\n",
              "</div>"
            ],
            "text/plain": [
              "        School Code     Enrollment          Count        Percent\n",
              "count  2.672040e+05  253812.000000  253812.000000  253812.000000\n",
              "mean   5.505333e+06      76.122926      36.304454      47.259302\n",
              "std    2.020543e+06      44.064897      46.315411      46.143604\n",
              "min    1.000160e+05      10.000000       0.000000       0.000000\n",
              "25%    6.015861e+06      41.000000       0.000000       0.000000\n",
              "50%    6.043111e+06      74.000000      10.000000      37.000000\n",
              "75%    6.115778e+06     104.000000      69.000000      96.000000\n",
              "max    9.999999e+06     667.000000     529.000000     100.000000"
            ]
          },
          "metadata": {
            "tags": []
          },
          "execution_count": 10
        }
      ]
    },
    {
      "cell_type": "code",
      "metadata": {
        "id": "Z6gHCzM_Yiw3",
        "colab_type": "code",
        "outputId": "b7e58f75-1708-4677-b726-8263af0b958c",
        "colab": {
          "base_uri": "https://localhost:8080/",
          "height": 428
        }
      },
      "source": [
        "df2.head()#must switch Enrollment and Reported so the two dataframes match"
      ],
      "execution_count": 11,
      "outputs": [
        {
          "output_type": "execute_result",
          "data": {
            "text/html": [
              "<div>\n",
              "<style scoped>\n",
              "    .dataframe tbody tr th:only-of-type {\n",
              "        vertical-align: middle;\n",
              "    }\n",
              "\n",
              "    .dataframe tbody tr th {\n",
              "        vertical-align: top;\n",
              "    }\n",
              "\n",
              "    .dataframe thead th {\n",
              "        text-align: right;\n",
              "    }\n",
              "</style>\n",
              "<table border=\"1\" class=\"dataframe\">\n",
              "  <thead>\n",
              "    <tr style=\"text-align: right;\">\n",
              "      <th></th>\n",
              "      <th>School Year</th>\n",
              "      <th>School Code</th>\n",
              "      <th>County</th>\n",
              "      <th>School Type</th>\n",
              "      <th>Public School District</th>\n",
              "      <th>City</th>\n",
              "      <th>School Name</th>\n",
              "      <th>Reported</th>\n",
              "      <th>Enrollment</th>\n",
              "      <th>Category</th>\n",
              "      <th>Count</th>\n",
              "      <th>Percent</th>\n",
              "    </tr>\n",
              "  </thead>\n",
              "  <tbody>\n",
              "    <tr>\n",
              "      <th>0</th>\n",
              "      <td>2016-2017</td>\n",
              "      <td>52749</td>\n",
              "      <td>MONTEREY</td>\n",
              "      <td>PRIVATE</td>\n",
              "      <td>NaN</td>\n",
              "      <td>PRUNEDALE</td>\n",
              "      <td>PRUNEDALE CHRISTIAN ACADEMY</td>\n",
              "      <td>Y</td>\n",
              "      <td>10.0</td>\n",
              "      <td>PBE</td>\n",
              "      <td>NaN</td>\n",
              "      <td>NaN</td>\n",
              "    </tr>\n",
              "    <tr>\n",
              "      <th>1</th>\n",
              "      <td>2016-2017</td>\n",
              "      <td>52749</td>\n",
              "      <td>MONTEREY</td>\n",
              "      <td>PRIVATE</td>\n",
              "      <td>NaN</td>\n",
              "      <td>PRUNEDALE</td>\n",
              "      <td>PRUNEDALE CHRISTIAN ACADEMY</td>\n",
              "      <td>Y</td>\n",
              "      <td>10.0</td>\n",
              "      <td>HEPB</td>\n",
              "      <td>NaN</td>\n",
              "      <td>NaN</td>\n",
              "    </tr>\n",
              "    <tr>\n",
              "      <th>2</th>\n",
              "      <td>2016-2017</td>\n",
              "      <td>52749</td>\n",
              "      <td>MONTEREY</td>\n",
              "      <td>PRIVATE</td>\n",
              "      <td>NaN</td>\n",
              "      <td>PRUNEDALE</td>\n",
              "      <td>PRUNEDALE CHRISTIAN ACADEMY</td>\n",
              "      <td>Y</td>\n",
              "      <td>10.0</td>\n",
              "      <td>DTP</td>\n",
              "      <td>NaN</td>\n",
              "      <td>NaN</td>\n",
              "    </tr>\n",
              "    <tr>\n",
              "      <th>3</th>\n",
              "      <td>2016-2017</td>\n",
              "      <td>52749</td>\n",
              "      <td>MONTEREY</td>\n",
              "      <td>PRIVATE</td>\n",
              "      <td>NaN</td>\n",
              "      <td>PRUNEDALE</td>\n",
              "      <td>PRUNEDALE CHRISTIAN ACADEMY</td>\n",
              "      <td>Y</td>\n",
              "      <td>10.0</td>\n",
              "      <td>POLIO</td>\n",
              "      <td>NaN</td>\n",
              "      <td>NaN</td>\n",
              "    </tr>\n",
              "    <tr>\n",
              "      <th>4</th>\n",
              "      <td>2016-2017</td>\n",
              "      <td>52749</td>\n",
              "      <td>MONTEREY</td>\n",
              "      <td>PRIVATE</td>\n",
              "      <td>NaN</td>\n",
              "      <td>PRUNEDALE</td>\n",
              "      <td>PRUNEDALE CHRISTIAN ACADEMY</td>\n",
              "      <td>Y</td>\n",
              "      <td>10.0</td>\n",
              "      <td>Up-To-Date</td>\n",
              "      <td>NaN</td>\n",
              "      <td>NaN</td>\n",
              "    </tr>\n",
              "  </tbody>\n",
              "</table>\n",
              "</div>"
            ],
            "text/plain": [
              "  School Year  School Code    County  ...    Category Count Percent\n",
              "0   2016-2017        52749  MONTEREY  ...         PBE   NaN     NaN\n",
              "1   2016-2017        52749  MONTEREY  ...        HEPB   NaN     NaN\n",
              "2   2016-2017        52749  MONTEREY  ...         DTP   NaN     NaN\n",
              "3   2016-2017        52749  MONTEREY  ...       POLIO   NaN     NaN\n",
              "4   2016-2017        52749  MONTEREY  ...  Up-To-Date   NaN     NaN\n",
              "\n",
              "[5 rows x 12 columns]"
            ]
          },
          "metadata": {
            "tags": []
          },
          "execution_count": 11
        }
      ]
    },
    {
      "cell_type": "code",
      "metadata": {
        "id": "G6DdsOc3ZjPB",
        "colab_type": "code",
        "outputId": "3263ff2d-5ee0-47a0-e089-2c630f2db3b2",
        "colab": {
          "base_uri": "https://localhost:8080/",
          "height": 428
        }
      },
      "source": [
        "df2=df2[headers1]\n",
        "df2.head()"
      ],
      "execution_count": 12,
      "outputs": [
        {
          "output_type": "execute_result",
          "data": {
            "text/html": [
              "<div>\n",
              "<style scoped>\n",
              "    .dataframe tbody tr th:only-of-type {\n",
              "        vertical-align: middle;\n",
              "    }\n",
              "\n",
              "    .dataframe tbody tr th {\n",
              "        vertical-align: top;\n",
              "    }\n",
              "\n",
              "    .dataframe thead th {\n",
              "        text-align: right;\n",
              "    }\n",
              "</style>\n",
              "<table border=\"1\" class=\"dataframe\">\n",
              "  <thead>\n",
              "    <tr style=\"text-align: right;\">\n",
              "      <th></th>\n",
              "      <th>School Year</th>\n",
              "      <th>School Code</th>\n",
              "      <th>County</th>\n",
              "      <th>School Type</th>\n",
              "      <th>Public School District</th>\n",
              "      <th>City</th>\n",
              "      <th>School Name</th>\n",
              "      <th>Enrollment</th>\n",
              "      <th>Reported</th>\n",
              "      <th>Category</th>\n",
              "      <th>Count</th>\n",
              "      <th>Percent</th>\n",
              "    </tr>\n",
              "  </thead>\n",
              "  <tbody>\n",
              "    <tr>\n",
              "      <th>0</th>\n",
              "      <td>2016-2017</td>\n",
              "      <td>52749</td>\n",
              "      <td>MONTEREY</td>\n",
              "      <td>PRIVATE</td>\n",
              "      <td>NaN</td>\n",
              "      <td>PRUNEDALE</td>\n",
              "      <td>PRUNEDALE CHRISTIAN ACADEMY</td>\n",
              "      <td>10.0</td>\n",
              "      <td>Y</td>\n",
              "      <td>PBE</td>\n",
              "      <td>NaN</td>\n",
              "      <td>NaN</td>\n",
              "    </tr>\n",
              "    <tr>\n",
              "      <th>1</th>\n",
              "      <td>2016-2017</td>\n",
              "      <td>52749</td>\n",
              "      <td>MONTEREY</td>\n",
              "      <td>PRIVATE</td>\n",
              "      <td>NaN</td>\n",
              "      <td>PRUNEDALE</td>\n",
              "      <td>PRUNEDALE CHRISTIAN ACADEMY</td>\n",
              "      <td>10.0</td>\n",
              "      <td>Y</td>\n",
              "      <td>HEPB</td>\n",
              "      <td>NaN</td>\n",
              "      <td>NaN</td>\n",
              "    </tr>\n",
              "    <tr>\n",
              "      <th>2</th>\n",
              "      <td>2016-2017</td>\n",
              "      <td>52749</td>\n",
              "      <td>MONTEREY</td>\n",
              "      <td>PRIVATE</td>\n",
              "      <td>NaN</td>\n",
              "      <td>PRUNEDALE</td>\n",
              "      <td>PRUNEDALE CHRISTIAN ACADEMY</td>\n",
              "      <td>10.0</td>\n",
              "      <td>Y</td>\n",
              "      <td>DTP</td>\n",
              "      <td>NaN</td>\n",
              "      <td>NaN</td>\n",
              "    </tr>\n",
              "    <tr>\n",
              "      <th>3</th>\n",
              "      <td>2016-2017</td>\n",
              "      <td>52749</td>\n",
              "      <td>MONTEREY</td>\n",
              "      <td>PRIVATE</td>\n",
              "      <td>NaN</td>\n",
              "      <td>PRUNEDALE</td>\n",
              "      <td>PRUNEDALE CHRISTIAN ACADEMY</td>\n",
              "      <td>10.0</td>\n",
              "      <td>Y</td>\n",
              "      <td>POLIO</td>\n",
              "      <td>NaN</td>\n",
              "      <td>NaN</td>\n",
              "    </tr>\n",
              "    <tr>\n",
              "      <th>4</th>\n",
              "      <td>2016-2017</td>\n",
              "      <td>52749</td>\n",
              "      <td>MONTEREY</td>\n",
              "      <td>PRIVATE</td>\n",
              "      <td>NaN</td>\n",
              "      <td>PRUNEDALE</td>\n",
              "      <td>PRUNEDALE CHRISTIAN ACADEMY</td>\n",
              "      <td>10.0</td>\n",
              "      <td>Y</td>\n",
              "      <td>Up-To-Date</td>\n",
              "      <td>NaN</td>\n",
              "      <td>NaN</td>\n",
              "    </tr>\n",
              "  </tbody>\n",
              "</table>\n",
              "</div>"
            ],
            "text/plain": [
              "  School Year  School Code    County  ...    Category Count Percent\n",
              "0   2016-2017        52749  MONTEREY  ...         PBE   NaN     NaN\n",
              "1   2016-2017        52749  MONTEREY  ...        HEPB   NaN     NaN\n",
              "2   2016-2017        52749  MONTEREY  ...         DTP   NaN     NaN\n",
              "3   2016-2017        52749  MONTEREY  ...       POLIO   NaN     NaN\n",
              "4   2016-2017        52749  MONTEREY  ...  Up-To-Date   NaN     NaN\n",
              "\n",
              "[5 rows x 12 columns]"
            ]
          },
          "metadata": {
            "tags": []
          },
          "execution_count": 12
        }
      ]
    },
    {
      "cell_type": "code",
      "metadata": {
        "id": "DsZoW8aTbnK0",
        "colab_type": "code",
        "outputId": "866d8edc-e273-4728-a346-b3531c2026d8",
        "colab": {
          "base_uri": "https://localhost:8080/",
          "height": 238
        }
      },
      "source": [
        "df2.count()"
      ],
      "execution_count": 13,
      "outputs": [
        {
          "output_type": "execute_result",
          "data": {
            "text/plain": [
              "School Year               263071\n",
              "School Code               263071\n",
              "County                    263071\n",
              "School Type               263071\n",
              "Public School District    194751\n",
              "City                      263071\n",
              "School Name               263071\n",
              "Enrollment                253187\n",
              "Reported                  263071\n",
              "Category                  263071\n",
              "Count                      81934\n",
              "Percent                   207822\n",
              "dtype: int64"
            ]
          },
          "metadata": {
            "tags": []
          },
          "execution_count": 13
        }
      ]
    },
    {
      "cell_type": "code",
      "metadata": {
        "id": "f0EMOCosaNy3",
        "colab_type": "code",
        "outputId": "5c5fd39a-50d6-4ef6-9c8d-67c541d1099a",
        "colab": {
          "base_uri": "https://localhost:8080/",
          "height": 238
        }
      },
      "source": [
        "df2.dtypes"
      ],
      "execution_count": 14,
      "outputs": [
        {
          "output_type": "execute_result",
          "data": {
            "text/plain": [
              "School Year                object\n",
              "School Code                 int64\n",
              "County                     object\n",
              "School Type                object\n",
              "Public School District     object\n",
              "City                       object\n",
              "School Name                object\n",
              "Enrollment                float64\n",
              "Reported                   object\n",
              "Category                   object\n",
              "Count                     float64\n",
              "Percent                   float64\n",
              "dtype: object"
            ]
          },
          "metadata": {
            "tags": []
          },
          "execution_count": 14
        }
      ]
    },
    {
      "cell_type": "code",
      "metadata": {
        "id": "-3-xwT4PeJti",
        "colab_type": "code",
        "outputId": "f7160173-4fa5-40d1-a969-70bc0932be74",
        "colab": {
          "base_uri": "https://localhost:8080/",
          "height": 238
        }
      },
      "source": [
        "df2.isnull().sum()#Has nearly 10 times as many nulls in the count catagory"
      ],
      "execution_count": 15,
      "outputs": [
        {
          "output_type": "execute_result",
          "data": {
            "text/plain": [
              "School Year                    0\n",
              "School Code                    0\n",
              "County                         0\n",
              "School Type                    0\n",
              "Public School District     68320\n",
              "City                           0\n",
              "School Name                    0\n",
              "Enrollment                  9884\n",
              "Reported                       0\n",
              "Category                       0\n",
              "Count                     181137\n",
              "Percent                    55249\n",
              "dtype: int64"
            ]
          },
          "metadata": {
            "tags": []
          },
          "execution_count": 15
        }
      ]
    },
    {
      "cell_type": "code",
      "metadata": {
        "id": "6GHaAYIsaPbD",
        "colab_type": "code",
        "outputId": "d3a30975-13a6-409a-b149-ca75fbe453e8",
        "colab": {
          "base_uri": "https://localhost:8080/",
          "height": 238
        }
      },
      "source": [
        "dfall=pd.concat([df1,df2])\n",
        "dfall.count()"
      ],
      "execution_count": 16,
      "outputs": [
        {
          "output_type": "execute_result",
          "data": {
            "text/plain": [
              "School Year               530275\n",
              "School Code               530275\n",
              "County                    530275\n",
              "School Type               530275\n",
              "Public School District    402819\n",
              "City                      530275\n",
              "School Name               530275\n",
              "Enrollment                506999\n",
              "Reported                  530275\n",
              "Category                  530275\n",
              "Count                     335746\n",
              "Percent                   461634\n",
              "dtype: int64"
            ]
          },
          "metadata": {
            "tags": []
          },
          "execution_count": 16
        }
      ]
    },
    {
      "cell_type": "code",
      "metadata": {
        "id": "iXPMWyhRcXWb",
        "colab_type": "code",
        "outputId": "d1c82543-d6ee-40ea-b130-a6cf9efce4ea",
        "colab": {
          "base_uri": "https://localhost:8080/",
          "height": 34
        }
      },
      "source": [
        "print(263071+267204)"
      ],
      "execution_count": 17,
      "outputs": [
        {
          "output_type": "stream",
          "text": [
            "530275\n"
          ],
          "name": "stdout"
        }
      ]
    },
    {
      "cell_type": "code",
      "metadata": {
        "id": "CBnPhrC_dEOq",
        "colab_type": "code",
        "outputId": "e5fbd622-e44e-4bfa-bf82-2a46865239e0",
        "colab": {
          "base_uri": "https://localhost:8080/",
          "height": 238
        }
      },
      "source": [
        "dfall.isnull().sum()"
      ],
      "execution_count": 18,
      "outputs": [
        {
          "output_type": "execute_result",
          "data": {
            "text/plain": [
              "School Year                    0\n",
              "School Code                    0\n",
              "County                         0\n",
              "School Type                    0\n",
              "Public School District    127456\n",
              "City                           0\n",
              "School Name                    0\n",
              "Enrollment                 23276\n",
              "Reported                       0\n",
              "Category                       0\n",
              "Count                     194529\n",
              "Percent                    68641\n",
              "dtype: int64"
            ]
          },
          "metadata": {
            "tags": []
          },
          "execution_count": 18
        }
      ]
    },
    {
      "cell_type": "code",
      "metadata": {
        "id": "NZSU9HBTgJcR",
        "colab_type": "code",
        "colab": {}
      },
      "source": [
        "#In df2, even though they recorded the smaller schools they didnt include the data. So, we will disclude all schools under 20 as they do for the entire dataframe\n",
        "\n",
        "df20=dfall[dfall['Enrollment']>19]"
      ],
      "execution_count": 0,
      "outputs": []
    },
    {
      "cell_type": "code",
      "metadata": {
        "id": "iKXiE1Hhg5bw",
        "colab_type": "code",
        "outputId": "506e454a-3038-4ab1-9736-0b66955e3b2a",
        "colab": {
          "base_uri": "https://localhost:8080/",
          "height": 238
        }
      },
      "source": [
        "df20.count()"
      ],
      "execution_count": 20,
      "outputs": [
        {
          "output_type": "execute_result",
          "data": {
            "text/plain": [
              "School Year               436794\n",
              "School Code               436794\n",
              "County                    436794\n",
              "School Type               436794\n",
              "Public School District    376593\n",
              "City                      436794\n",
              "School Name               436794\n",
              "Enrollment                436794\n",
              "Reported                  436794\n",
              "Category                  436794\n",
              "Count                     310906\n",
              "Percent                   436794\n",
              "dtype: int64"
            ]
          },
          "metadata": {
            "tags": []
          },
          "execution_count": 20
        }
      ]
    },
    {
      "cell_type": "code",
      "metadata": {
        "id": "pPH8nGjmg-bv",
        "colab_type": "code",
        "outputId": "8f98c92d-d918-454e-8cf9-3713be2f27b2",
        "colab": {
          "base_uri": "https://localhost:8080/",
          "height": 238
        }
      },
      "source": [
        "df20.isnull().sum()\n",
        "#now we see that there are still many counts that are not included, +120,000 which is now more than 25% of the dataset. Why are 0 of the percents NaN?\n",
        "#Why are 125888 of co"
      ],
      "execution_count": 21,
      "outputs": [
        {
          "output_type": "execute_result",
          "data": {
            "text/plain": [
              "School Year                    0\n",
              "School Code                    0\n",
              "County                         0\n",
              "School Type                    0\n",
              "Public School District     60201\n",
              "City                           0\n",
              "School Name                    0\n",
              "Enrollment                     0\n",
              "Reported                       0\n",
              "Category                       0\n",
              "Count                     125888\n",
              "Percent                        0\n",
              "dtype: int64"
            ]
          },
          "metadata": {
            "tags": []
          },
          "execution_count": 21
        }
      ]
    },
    {
      "cell_type": "code",
      "metadata": {
        "id": "IFrwzNoJSVQ9",
        "colab_type": "code",
        "outputId": "6e095be3-f2dd-42e5-bad8-6f8185555075",
        "colab": {
          "base_uri": "https://localhost:8080/",
          "height": 238
        }
      },
      "source": [
        "array = ['Up-To-Date', 'UP-TO-DATE']\n",
        "\n",
        "dfutd=df20.loc[df20['Category'].isin(array)]\n",
        "dfutd.count()"
      ],
      "execution_count": 22,
      "outputs": [
        {
          "output_type": "execute_result",
          "data": {
            "text/plain": [
              "School Year               38567\n",
              "School Code               38567\n",
              "County                    38567\n",
              "School Type               38567\n",
              "Public School District    33259\n",
              "City                      38567\n",
              "School Name               38567\n",
              "Enrollment                38567\n",
              "Reported                  38567\n",
              "Category                  38567\n",
              "Count                     28814\n",
              "Percent                   38567\n",
              "dtype: int64"
            ]
          },
          "metadata": {
            "tags": []
          },
          "execution_count": 22
        }
      ]
    },
    {
      "cell_type": "code",
      "metadata": {
        "id": "NBFpdg3kTptr",
        "colab_type": "code",
        "colab": {}
      },
      "source": [
        "dfutd=dfutd.sort_values(['School Year'])"
      ],
      "execution_count": 0,
      "outputs": []
    },
    {
      "cell_type": "markdown",
      "metadata": {
        "id": "18j-BmDNiZta",
        "colab_type": "text"
      },
      "source": [
        "##Step 2: Analysis\n"
      ]
    },
    {
      "cell_type": "code",
      "metadata": {
        "id": "5aZaraqmicm1",
        "colab_type": "code",
        "colab": {}
      },
      "source": [
        "#Separate as years \n",
        "df34=dfutd[dfutd['School Year']=='2013-2014']\n",
        "df45=dfutd[dfutd['School Year']=='2014-2015']\n",
        "df56=dfutd[dfutd['School Year']=='2015-2016']\n",
        "df67=dfutd[dfutd['School Year']=='2016-2017']\n",
        "df78=dfutd[dfutd['School Year']=='2017-2018']\n",
        "df89=dfutd[dfutd['School Year']=='2018-2019']"
      ],
      "execution_count": 0,
      "outputs": []
    },
    {
      "cell_type": "markdown",
      "metadata": {
        "id": "CahL8NL2jKq1",
        "colab_type": "text"
      },
      "source": [
        "Question 1: Is the decrease in the last year statistically significant? "
      ]
    },
    {
      "cell_type": "markdown",
      "metadata": {
        "id": "1Zqh-b2FkCt7",
        "colab_type": "text"
      },
      "source": [
        "Null hypothesis: There is no difference in up-to-date immunizations from the school years 2017-2018 to 2018-2019"
      ]
    },
    {
      "cell_type": "markdown",
      "metadata": {
        "id": "X8ffb1Uao6S-",
        "colab_type": "text"
      },
      "source": [
        "Using Z-Tests"
      ]
    },
    {
      "cell_type": "code",
      "metadata": {
        "id": "dbpsTLA7nq5Y",
        "colab_type": "code",
        "outputId": "83a7ac3a-6998-416c-bff3-7fd9299feecb",
        "colab": {
          "base_uri": "https://localhost:8080/",
          "height": 297
        }
      },
      "source": [
        "#lets assume that the NaN in the Counts dont matter and lets focus on Percent\n",
        "\n",
        "df78.describe()"
      ],
      "execution_count": 25,
      "outputs": [
        {
          "output_type": "execute_result",
          "data": {
            "text/html": [
              "<div>\n",
              "<style scoped>\n",
              "    .dataframe tbody tr th:only-of-type {\n",
              "        vertical-align: middle;\n",
              "    }\n",
              "\n",
              "    .dataframe tbody tr th {\n",
              "        vertical-align: top;\n",
              "    }\n",
              "\n",
              "    .dataframe thead th {\n",
              "        text-align: right;\n",
              "    }\n",
              "</style>\n",
              "<table border=\"1\" class=\"dataframe\">\n",
              "  <thead>\n",
              "    <tr style=\"text-align: right;\">\n",
              "      <th></th>\n",
              "      <th>School Code</th>\n",
              "      <th>Enrollment</th>\n",
              "      <th>Count</th>\n",
              "      <th>Percent</th>\n",
              "    </tr>\n",
              "  </thead>\n",
              "  <tbody>\n",
              "    <tr>\n",
              "      <th>count</th>\n",
              "      <td>6.493000e+03</td>\n",
              "      <td>6493.000000</td>\n",
              "      <td>3267.000000</td>\n",
              "      <td>6493.000000</td>\n",
              "    </tr>\n",
              "    <tr>\n",
              "      <th>mean</th>\n",
              "      <td>5.307589e+06</td>\n",
              "      <td>84.744186</td>\n",
              "      <td>84.772268</td>\n",
              "      <td>94.365008</td>\n",
              "    </tr>\n",
              "    <tr>\n",
              "      <th>std</th>\n",
              "      <td>2.139503e+06</td>\n",
              "      <td>46.503500</td>\n",
              "      <td>41.300597</td>\n",
              "      <td>8.343397</td>\n",
              "    </tr>\n",
              "    <tr>\n",
              "      <th>min</th>\n",
              "      <td>1.000160e+05</td>\n",
              "      <td>20.000000</td>\n",
              "      <td>2.000000</td>\n",
              "      <td>1.000000</td>\n",
              "    </tr>\n",
              "    <tr>\n",
              "      <th>25%</th>\n",
              "      <td>6.012819e+06</td>\n",
              "      <td>52.000000</td>\n",
              "      <td>56.000000</td>\n",
              "      <td>95.000000</td>\n",
              "    </tr>\n",
              "    <tr>\n",
              "      <th>50%</th>\n",
              "      <td>6.036941e+06</td>\n",
              "      <td>82.000000</td>\n",
              "      <td>84.000000</td>\n",
              "      <td>97.000000</td>\n",
              "    </tr>\n",
              "    <tr>\n",
              "      <th>75%</th>\n",
              "      <td>6.106405e+06</td>\n",
              "      <td>110.000000</td>\n",
              "      <td>111.000000</td>\n",
              "      <td>98.000000</td>\n",
              "    </tr>\n",
              "    <tr>\n",
              "      <th>max</th>\n",
              "      <td>7.104722e+06</td>\n",
              "      <td>1117.000000</td>\n",
              "      <td>480.000000</td>\n",
              "      <td>99.000000</td>\n",
              "    </tr>\n",
              "  </tbody>\n",
              "</table>\n",
              "</div>"
            ],
            "text/plain": [
              "        School Code   Enrollment        Count      Percent\n",
              "count  6.493000e+03  6493.000000  3267.000000  6493.000000\n",
              "mean   5.307589e+06    84.744186    84.772268    94.365008\n",
              "std    2.139503e+06    46.503500    41.300597     8.343397\n",
              "min    1.000160e+05    20.000000     2.000000     1.000000\n",
              "25%    6.012819e+06    52.000000    56.000000    95.000000\n",
              "50%    6.036941e+06    82.000000    84.000000    97.000000\n",
              "75%    6.106405e+06   110.000000   111.000000    98.000000\n",
              "max    7.104722e+06  1117.000000   480.000000    99.000000"
            ]
          },
          "metadata": {
            "tags": []
          },
          "execution_count": 25
        }
      ]
    },
    {
      "cell_type": "code",
      "metadata": {
        "id": "C_2XwJkfoKc6",
        "colab_type": "code",
        "outputId": "83d1f6c7-f079-414d-a9b9-3d139cd385a2",
        "colab": {
          "base_uri": "https://localhost:8080/",
          "height": 297
        }
      },
      "source": [
        "df89.describe()#we see a decrease in the mean from 94.365008 to 94.177498, is this statistically significant? Z-test"
      ],
      "execution_count": 26,
      "outputs": [
        {
          "output_type": "execute_result",
          "data": {
            "text/html": [
              "<div>\n",
              "<style scoped>\n",
              "    .dataframe tbody tr th:only-of-type {\n",
              "        vertical-align: middle;\n",
              "    }\n",
              "\n",
              "    .dataframe tbody tr th {\n",
              "        vertical-align: top;\n",
              "    }\n",
              "\n",
              "    .dataframe thead th {\n",
              "        text-align: right;\n",
              "    }\n",
              "</style>\n",
              "<table border=\"1\" class=\"dataframe\">\n",
              "  <thead>\n",
              "    <tr style=\"text-align: right;\">\n",
              "      <th></th>\n",
              "      <th>School Code</th>\n",
              "      <th>Enrollment</th>\n",
              "      <th>Count</th>\n",
              "      <th>Percent</th>\n",
              "    </tr>\n",
              "  </thead>\n",
              "  <tbody>\n",
              "    <tr>\n",
              "      <th>count</th>\n",
              "      <td>6.524000e+03</td>\n",
              "      <td>6524.000000</td>\n",
              "      <td>3283.000000</td>\n",
              "      <td>6524.000000</td>\n",
              "    </tr>\n",
              "    <tr>\n",
              "      <th>mean</th>\n",
              "      <td>5.284750e+06</td>\n",
              "      <td>83.087676</td>\n",
              "      <td>83.271398</td>\n",
              "      <td>94.177498</td>\n",
              "    </tr>\n",
              "    <tr>\n",
              "      <th>std</th>\n",
              "      <td>2.162585e+06</td>\n",
              "      <td>44.737917</td>\n",
              "      <td>40.778146</td>\n",
              "      <td>8.871080</td>\n",
              "    </tr>\n",
              "    <tr>\n",
              "      <th>min</th>\n",
              "      <td>1.000160e+05</td>\n",
              "      <td>20.000000</td>\n",
              "      <td>0.000000</td>\n",
              "      <td>0.000000</td>\n",
              "    </tr>\n",
              "    <tr>\n",
              "      <th>25%</th>\n",
              "      <td>6.012320e+06</td>\n",
              "      <td>51.000000</td>\n",
              "      <td>55.000000</td>\n",
              "      <td>95.000000</td>\n",
              "    </tr>\n",
              "    <tr>\n",
              "      <th>50%</th>\n",
              "      <td>6.036838e+06</td>\n",
              "      <td>79.000000</td>\n",
              "      <td>81.000000</td>\n",
              "      <td>96.000000</td>\n",
              "    </tr>\n",
              "    <tr>\n",
              "      <th>75%</th>\n",
              "      <td>6.106441e+06</td>\n",
              "      <td>107.000000</td>\n",
              "      <td>110.000000</td>\n",
              "      <td>98.000000</td>\n",
              "    </tr>\n",
              "    <tr>\n",
              "      <th>max</th>\n",
              "      <td>7.104722e+06</td>\n",
              "      <td>818.000000</td>\n",
              "      <td>546.000000</td>\n",
              "      <td>99.000000</td>\n",
              "    </tr>\n",
              "  </tbody>\n",
              "</table>\n",
              "</div>"
            ],
            "text/plain": [
              "        School Code   Enrollment        Count      Percent\n",
              "count  6.524000e+03  6524.000000  3283.000000  6524.000000\n",
              "mean   5.284750e+06    83.087676    83.271398    94.177498\n",
              "std    2.162585e+06    44.737917    40.778146     8.871080\n",
              "min    1.000160e+05    20.000000     0.000000     0.000000\n",
              "25%    6.012320e+06    51.000000    55.000000    95.000000\n",
              "50%    6.036838e+06    79.000000    81.000000    96.000000\n",
              "75%    6.106441e+06   107.000000   110.000000    98.000000\n",
              "max    7.104722e+06   818.000000   546.000000    99.000000"
            ]
          },
          "metadata": {
            "tags": []
          },
          "execution_count": 26
        }
      ]
    },
    {
      "cell_type": "code",
      "metadata": {
        "id": "vbYjCjCFL17z",
        "colab_type": "code",
        "colab": {
          "base_uri": "https://localhost:8080/",
          "height": 34
        },
        "outputId": "f3e0beae-3204-4949-a96f-42a47cb0d55e"
      },
      "source": [
        "from statsmodels.stats.weightstats import ztest\n",
        "ztest(df78['Percent'], x2=df89['Percent'], value=0, alternative='two-sided')"
      ],
      "execution_count": 27,
      "outputs": [
        {
          "output_type": "execute_result",
          "data": {
            "text/plain": [
              "(1.2420789061924185, 0.21420745043017675)"
            ]
          },
          "metadata": {
            "tags": []
          },
          "execution_count": 27
        }
      ]
    },
    {
      "cell_type": "markdown",
      "metadata": {
        "id": "MyJETM6POvjf",
        "colab_type": "text"
      },
      "source": [
        "Since our p-val is >.01, we fail to reject the null hypothesis"
      ]
    },
    {
      "cell_type": "markdown",
      "metadata": {
        "id": "kljznnInx_0v",
        "colab_type": "text"
      },
      "source": [
        "How about if we focus just on Private Schools? Are they getting worse?\n",
        "\n",
        "Null Hypothesis: There is no difference in percentage up-to-date for private schools from 2017-2018 to 2018-2019"
      ]
    },
    {
      "cell_type": "code",
      "metadata": {
        "id": "N3MTcd2hyq2P",
        "colab_type": "code",
        "outputId": "45167351-8292-4e5c-ab82-1dad19f4ff66",
        "colab": {
          "base_uri": "https://localhost:8080/",
          "height": 462
        }
      },
      "source": [
        "Private1=df78[df78['School Type']=='PRIVATE']\n",
        "Private1.head()"
      ],
      "execution_count": 28,
      "outputs": [
        {
          "output_type": "execute_result",
          "data": {
            "text/html": [
              "<div>\n",
              "<style scoped>\n",
              "    .dataframe tbody tr th:only-of-type {\n",
              "        vertical-align: middle;\n",
              "    }\n",
              "\n",
              "    .dataframe tbody tr th {\n",
              "        vertical-align: top;\n",
              "    }\n",
              "\n",
              "    .dataframe thead th {\n",
              "        text-align: right;\n",
              "    }\n",
              "</style>\n",
              "<table border=\"1\" class=\"dataframe\">\n",
              "  <thead>\n",
              "    <tr style=\"text-align: right;\">\n",
              "      <th></th>\n",
              "      <th>School Year</th>\n",
              "      <th>School Code</th>\n",
              "      <th>County</th>\n",
              "      <th>School Type</th>\n",
              "      <th>Public School District</th>\n",
              "      <th>City</th>\n",
              "      <th>School Name</th>\n",
              "      <th>Enrollment</th>\n",
              "      <th>Reported</th>\n",
              "      <th>Category</th>\n",
              "      <th>Count</th>\n",
              "      <th>Percent</th>\n",
              "    </tr>\n",
              "  </thead>\n",
              "  <tbody>\n",
              "    <tr>\n",
              "      <th>180915</th>\n",
              "      <td>2017-2018</td>\n",
              "      <td>7103989</td>\n",
              "      <td>ALAMEDA</td>\n",
              "      <td>PRIVATE</td>\n",
              "      <td>NaN</td>\n",
              "      <td>DUBLIN</td>\n",
              "      <td>QUARRY LANE SCHOOL, THE</td>\n",
              "      <td>47.0</td>\n",
              "      <td>Y</td>\n",
              "      <td>UP-TO-DATE</td>\n",
              "      <td>NaN</td>\n",
              "      <td>95.0</td>\n",
              "    </tr>\n",
              "    <tr>\n",
              "      <th>168848</th>\n",
              "      <td>2017-2018</td>\n",
              "      <td>6963771</td>\n",
              "      <td>LOS ANGELES</td>\n",
              "      <td>PRIVATE</td>\n",
              "      <td>NaN</td>\n",
              "      <td>SAN MARINO</td>\n",
              "      <td>SAINTS FELICITAS AND PERPETUA SCHOOL</td>\n",
              "      <td>23.0</td>\n",
              "      <td>Y</td>\n",
              "      <td>UP-TO-DATE</td>\n",
              "      <td>NaN</td>\n",
              "      <td>95.0</td>\n",
              "    </tr>\n",
              "    <tr>\n",
              "      <th>168837</th>\n",
              "      <td>2017-2018</td>\n",
              "      <td>6963763</td>\n",
              "      <td>LOS ANGELES</td>\n",
              "      <td>PRIVATE</td>\n",
              "      <td>NaN</td>\n",
              "      <td>GRANADA HILLS</td>\n",
              "      <td>ST. EUPHRASIA SCHOOL</td>\n",
              "      <td>29.0</td>\n",
              "      <td>Y</td>\n",
              "      <td>UP-TO-DATE</td>\n",
              "      <td>NaN</td>\n",
              "      <td>95.0</td>\n",
              "    </tr>\n",
              "    <tr>\n",
              "      <th>168826</th>\n",
              "      <td>2017-2018</td>\n",
              "      <td>6963755</td>\n",
              "      <td>LOS ANGELES</td>\n",
              "      <td>PRIVATE</td>\n",
              "      <td>NaN</td>\n",
              "      <td>LOS ANGELES</td>\n",
              "      <td>ST. EUGENE</td>\n",
              "      <td>24.0</td>\n",
              "      <td>Y</td>\n",
              "      <td>UP-TO-DATE</td>\n",
              "      <td>NaN</td>\n",
              "      <td>95.0</td>\n",
              "    </tr>\n",
              "    <tr>\n",
              "      <th>168815</th>\n",
              "      <td>2017-2018</td>\n",
              "      <td>6963748</td>\n",
              "      <td>LOS ANGELES</td>\n",
              "      <td>PRIVATE</td>\n",
              "      <td>NaN</td>\n",
              "      <td>LYNWOOD</td>\n",
              "      <td>ST. EMYDIUS SCHOOL</td>\n",
              "      <td>48.0</td>\n",
              "      <td>Y</td>\n",
              "      <td>UP-TO-DATE</td>\n",
              "      <td>41.0</td>\n",
              "      <td>85.0</td>\n",
              "    </tr>\n",
              "  </tbody>\n",
              "</table>\n",
              "</div>"
            ],
            "text/plain": [
              "       School Year  School Code       County  ...    Category Count Percent\n",
              "180915   2017-2018      7103989      ALAMEDA  ...  UP-TO-DATE   NaN    95.0\n",
              "168848   2017-2018      6963771  LOS ANGELES  ...  UP-TO-DATE   NaN    95.0\n",
              "168837   2017-2018      6963763  LOS ANGELES  ...  UP-TO-DATE   NaN    95.0\n",
              "168826   2017-2018      6963755  LOS ANGELES  ...  UP-TO-DATE   NaN    95.0\n",
              "168815   2017-2018      6963748  LOS ANGELES  ...  UP-TO-DATE  41.0    85.0\n",
              "\n",
              "[5 rows x 12 columns]"
            ]
          },
          "metadata": {
            "tags": []
          },
          "execution_count": 28
        }
      ]
    },
    {
      "cell_type": "code",
      "metadata": {
        "id": "TuiQy_2r1HYE",
        "colab_type": "code",
        "outputId": "d865405e-e667-4a6d-fb2c-a84a1e82f876",
        "colab": {
          "base_uri": "https://localhost:8080/",
          "height": 238
        }
      },
      "source": [
        "Private1.count()"
      ],
      "execution_count": 29,
      "outputs": [
        {
          "output_type": "execute_result",
          "data": {
            "text/plain": [
              "School Year               863\n",
              "School Code               863\n",
              "County                    863\n",
              "School Type               863\n",
              "Public School District      0\n",
              "City                      863\n",
              "School Name               863\n",
              "Enrollment                863\n",
              "Reported                  863\n",
              "Category                  863\n",
              "Count                     340\n",
              "Percent                   863\n",
              "dtype: int64"
            ]
          },
          "metadata": {
            "tags": []
          },
          "execution_count": 29
        }
      ]
    },
    {
      "cell_type": "code",
      "metadata": {
        "id": "EIWe4RYQ1UIZ",
        "colab_type": "code",
        "outputId": "9bade3e4-871f-4b3e-9c40-9f6ad7a3d626",
        "colab": {
          "base_uri": "https://localhost:8080/",
          "height": 297
        }
      },
      "source": [
        "Private1.describe()"
      ],
      "execution_count": 30,
      "outputs": [
        {
          "output_type": "execute_result",
          "data": {
            "text/html": [
              "<div>\n",
              "<style scoped>\n",
              "    .dataframe tbody tr th:only-of-type {\n",
              "        vertical-align: middle;\n",
              "    }\n",
              "\n",
              "    .dataframe tbody tr th {\n",
              "        vertical-align: top;\n",
              "    }\n",
              "\n",
              "    .dataframe thead th {\n",
              "        text-align: right;\n",
              "    }\n",
              "</style>\n",
              "<table border=\"1\" class=\"dataframe\">\n",
              "  <thead>\n",
              "    <tr style=\"text-align: right;\">\n",
              "      <th></th>\n",
              "      <th>School Code</th>\n",
              "      <th>Enrollment</th>\n",
              "      <th>Count</th>\n",
              "      <th>Percent</th>\n",
              "    </tr>\n",
              "  </thead>\n",
              "  <tbody>\n",
              "    <tr>\n",
              "      <th>count</th>\n",
              "      <td>8.630000e+02</td>\n",
              "      <td>863.000000</td>\n",
              "      <td>340.000000</td>\n",
              "      <td>863.000000</td>\n",
              "    </tr>\n",
              "    <tr>\n",
              "      <th>mean</th>\n",
              "      <td>6.883485e+06</td>\n",
              "      <td>36.949015</td>\n",
              "      <td>33.688235</td>\n",
              "      <td>91.044032</td>\n",
              "    </tr>\n",
              "    <tr>\n",
              "      <th>std</th>\n",
              "      <td>3.459480e+05</td>\n",
              "      <td>17.274962</td>\n",
              "      <td>17.352748</td>\n",
              "      <td>10.065927</td>\n",
              "    </tr>\n",
              "    <tr>\n",
              "      <th>min</th>\n",
              "      <td>2.114430e+05</td>\n",
              "      <td>20.000000</td>\n",
              "      <td>2.000000</td>\n",
              "      <td>5.000000</td>\n",
              "    </tr>\n",
              "    <tr>\n",
              "      <th>25%</th>\n",
              "      <td>6.937254e+06</td>\n",
              "      <td>24.000000</td>\n",
              "      <td>21.000000</td>\n",
              "      <td>91.000000</td>\n",
              "    </tr>\n",
              "    <tr>\n",
              "      <th>50%</th>\n",
              "      <td>6.967384e+06</td>\n",
              "      <td>32.000000</td>\n",
              "      <td>29.000000</td>\n",
              "      <td>95.000000</td>\n",
              "    </tr>\n",
              "    <tr>\n",
              "      <th>75%</th>\n",
              "      <td>6.982048e+06</td>\n",
              "      <td>44.000000</td>\n",
              "      <td>44.250000</td>\n",
              "      <td>95.000000</td>\n",
              "    </tr>\n",
              "    <tr>\n",
              "      <th>max</th>\n",
              "      <td>7.104722e+06</td>\n",
              "      <td>182.000000</td>\n",
              "      <td>119.000000</td>\n",
              "      <td>99.000000</td>\n",
              "    </tr>\n",
              "  </tbody>\n",
              "</table>\n",
              "</div>"
            ],
            "text/plain": [
              "        School Code  Enrollment       Count     Percent\n",
              "count  8.630000e+02  863.000000  340.000000  863.000000\n",
              "mean   6.883485e+06   36.949015   33.688235   91.044032\n",
              "std    3.459480e+05   17.274962   17.352748   10.065927\n",
              "min    2.114430e+05   20.000000    2.000000    5.000000\n",
              "25%    6.937254e+06   24.000000   21.000000   91.000000\n",
              "50%    6.967384e+06   32.000000   29.000000   95.000000\n",
              "75%    6.982048e+06   44.000000   44.250000   95.000000\n",
              "max    7.104722e+06  182.000000  119.000000   99.000000"
            ]
          },
          "metadata": {
            "tags": []
          },
          "execution_count": 30
        }
      ]
    },
    {
      "cell_type": "code",
      "metadata": {
        "id": "1nP-b7hT16A9",
        "colab_type": "code",
        "outputId": "ce8c7cca-f739-4014-96bd-c51f3ed9642e",
        "colab": {
          "base_uri": "https://localhost:8080/",
          "height": 394
        }
      },
      "source": [
        "Private2=df89[df89['School Type']=='PRIVATE']\n",
        "Private2.head()"
      ],
      "execution_count": 31,
      "outputs": [
        {
          "output_type": "execute_result",
          "data": {
            "text/html": [
              "<div>\n",
              "<style scoped>\n",
              "    .dataframe tbody tr th:only-of-type {\n",
              "        vertical-align: middle;\n",
              "    }\n",
              "\n",
              "    .dataframe tbody tr th {\n",
              "        vertical-align: top;\n",
              "    }\n",
              "\n",
              "    .dataframe thead th {\n",
              "        text-align: right;\n",
              "    }\n",
              "</style>\n",
              "<table border=\"1\" class=\"dataframe\">\n",
              "  <thead>\n",
              "    <tr style=\"text-align: right;\">\n",
              "      <th></th>\n",
              "      <th>School Year</th>\n",
              "      <th>School Code</th>\n",
              "      <th>County</th>\n",
              "      <th>School Type</th>\n",
              "      <th>Public School District</th>\n",
              "      <th>City</th>\n",
              "      <th>School Name</th>\n",
              "      <th>Enrollment</th>\n",
              "      <th>Reported</th>\n",
              "      <th>Category</th>\n",
              "      <th>Count</th>\n",
              "      <th>Percent</th>\n",
              "    </tr>\n",
              "  </thead>\n",
              "  <tbody>\n",
              "    <tr>\n",
              "      <th>262831</th>\n",
              "      <td>2018-2019</td>\n",
              "      <td>7103385</td>\n",
              "      <td>SANTA CLARA</td>\n",
              "      <td>PRIVATE</td>\n",
              "      <td>NaN</td>\n",
              "      <td>SAN JOSE</td>\n",
              "      <td>CHALLENGER SCHOOL STRAWBERRY PARK</td>\n",
              "      <td>69.0</td>\n",
              "      <td>Y</td>\n",
              "      <td>UP-TO-DATE</td>\n",
              "      <td>NaN</td>\n",
              "      <td>98.0</td>\n",
              "    </tr>\n",
              "    <tr>\n",
              "      <th>252071</th>\n",
              "      <td>2018-2019</td>\n",
              "      <td>6963821</td>\n",
              "      <td>LOS ANGELES</td>\n",
              "      <td>PRIVATE</td>\n",
              "      <td>NaN</td>\n",
              "      <td>SHERMAN OAKS</td>\n",
              "      <td>ST. FRANCIS DE SALES</td>\n",
              "      <td>36.0</td>\n",
              "      <td>Y</td>\n",
              "      <td>UP-TO-DATE</td>\n",
              "      <td>33.0</td>\n",
              "      <td>92.0</td>\n",
              "    </tr>\n",
              "    <tr>\n",
              "      <th>252051</th>\n",
              "      <td>2018-2019</td>\n",
              "      <td>6963805</td>\n",
              "      <td>LOS ANGELES</td>\n",
              "      <td>PRIVATE</td>\n",
              "      <td>NaN</td>\n",
              "      <td>LOS ANGELES</td>\n",
              "      <td>ST. FRANCES X. CABRINI</td>\n",
              "      <td>39.0</td>\n",
              "      <td>Y</td>\n",
              "      <td>UP-TO-DATE</td>\n",
              "      <td>NaN</td>\n",
              "      <td>95.0</td>\n",
              "    </tr>\n",
              "    <tr>\n",
              "      <th>252041</th>\n",
              "      <td>2018-2019</td>\n",
              "      <td>6963797</td>\n",
              "      <td>LOS ANGELES</td>\n",
              "      <td>PRIVATE</td>\n",
              "      <td>NaN</td>\n",
              "      <td>BURBANK</td>\n",
              "      <td>SAINT FINBAR SCHOOL</td>\n",
              "      <td>28.0</td>\n",
              "      <td>Y</td>\n",
              "      <td>UP-TO-DATE</td>\n",
              "      <td>NaN</td>\n",
              "      <td>95.0</td>\n",
              "    </tr>\n",
              "    <tr>\n",
              "      <th>252031</th>\n",
              "      <td>2018-2019</td>\n",
              "      <td>6963789</td>\n",
              "      <td>LOS ANGELES</td>\n",
              "      <td>PRIVATE</td>\n",
              "      <td>NaN</td>\n",
              "      <td>SAN FERNANDO</td>\n",
              "      <td>ST. FERDINAND ELEMENTARY</td>\n",
              "      <td>28.0</td>\n",
              "      <td>Y</td>\n",
              "      <td>UP-TO-DATE</td>\n",
              "      <td>NaN</td>\n",
              "      <td>95.0</td>\n",
              "    </tr>\n",
              "  </tbody>\n",
              "</table>\n",
              "</div>"
            ],
            "text/plain": [
              "       School Year  School Code       County  ...    Category Count Percent\n",
              "262831   2018-2019      7103385  SANTA CLARA  ...  UP-TO-DATE   NaN    98.0\n",
              "252071   2018-2019      6963821  LOS ANGELES  ...  UP-TO-DATE  33.0    92.0\n",
              "252051   2018-2019      6963805  LOS ANGELES  ...  UP-TO-DATE   NaN    95.0\n",
              "252041   2018-2019      6963797  LOS ANGELES  ...  UP-TO-DATE   NaN    95.0\n",
              "252031   2018-2019      6963789  LOS ANGELES  ...  UP-TO-DATE   NaN    95.0\n",
              "\n",
              "[5 rows x 12 columns]"
            ]
          },
          "metadata": {
            "tags": []
          },
          "execution_count": 31
        }
      ]
    },
    {
      "cell_type": "code",
      "metadata": {
        "id": "-l6sCBpk4x8s",
        "colab_type": "code",
        "outputId": "2218310b-a315-443a-8129-688c8351048a",
        "colab": {
          "base_uri": "https://localhost:8080/",
          "height": 297
        }
      },
      "source": [
        "Private2.describe()"
      ],
      "execution_count": 32,
      "outputs": [
        {
          "output_type": "execute_result",
          "data": {
            "text/html": [
              "<div>\n",
              "<style scoped>\n",
              "    .dataframe tbody tr th:only-of-type {\n",
              "        vertical-align: middle;\n",
              "    }\n",
              "\n",
              "    .dataframe tbody tr th {\n",
              "        vertical-align: top;\n",
              "    }\n",
              "\n",
              "    .dataframe thead th {\n",
              "        text-align: right;\n",
              "    }\n",
              "</style>\n",
              "<table border=\"1\" class=\"dataframe\">\n",
              "  <thead>\n",
              "    <tr style=\"text-align: right;\">\n",
              "      <th></th>\n",
              "      <th>School Code</th>\n",
              "      <th>Enrollment</th>\n",
              "      <th>Count</th>\n",
              "      <th>Percent</th>\n",
              "    </tr>\n",
              "  </thead>\n",
              "  <tbody>\n",
              "    <tr>\n",
              "      <th>count</th>\n",
              "      <td>8.720000e+02</td>\n",
              "      <td>872.000000</td>\n",
              "      <td>307.000000</td>\n",
              "      <td>872.000000</td>\n",
              "    </tr>\n",
              "    <tr>\n",
              "      <th>mean</th>\n",
              "      <td>6.882757e+06</td>\n",
              "      <td>37.566514</td>\n",
              "      <td>34.674267</td>\n",
              "      <td>91.099771</td>\n",
              "    </tr>\n",
              "    <tr>\n",
              "      <th>std</th>\n",
              "      <td>2.739635e+05</td>\n",
              "      <td>18.227613</td>\n",
              "      <td>21.206842</td>\n",
              "      <td>10.348149</td>\n",
              "    </tr>\n",
              "    <tr>\n",
              "      <th>min</th>\n",
              "      <td>6.130090e+06</td>\n",
              "      <td>20.000000</td>\n",
              "      <td>3.000000</td>\n",
              "      <td>5.000000</td>\n",
              "    </tr>\n",
              "    <tr>\n",
              "      <th>25%</th>\n",
              "      <td>6.934282e+06</td>\n",
              "      <td>25.000000</td>\n",
              "      <td>20.000000</td>\n",
              "      <td>92.000000</td>\n",
              "    </tr>\n",
              "    <tr>\n",
              "      <th>50%</th>\n",
              "      <td>6.967558e+06</td>\n",
              "      <td>32.000000</td>\n",
              "      <td>28.000000</td>\n",
              "      <td>95.000000</td>\n",
              "    </tr>\n",
              "    <tr>\n",
              "      <th>75%</th>\n",
              "      <td>6.982924e+06</td>\n",
              "      <td>44.000000</td>\n",
              "      <td>42.000000</td>\n",
              "      <td>95.000000</td>\n",
              "    </tr>\n",
              "    <tr>\n",
              "      <th>max</th>\n",
              "      <td>7.104722e+06</td>\n",
              "      <td>161.000000</td>\n",
              "      <td>158.000000</td>\n",
              "      <td>99.000000</td>\n",
              "    </tr>\n",
              "  </tbody>\n",
              "</table>\n",
              "</div>"
            ],
            "text/plain": [
              "        School Code  Enrollment       Count     Percent\n",
              "count  8.720000e+02  872.000000  307.000000  872.000000\n",
              "mean   6.882757e+06   37.566514   34.674267   91.099771\n",
              "std    2.739635e+05   18.227613   21.206842   10.348149\n",
              "min    6.130090e+06   20.000000    3.000000    5.000000\n",
              "25%    6.934282e+06   25.000000   20.000000   92.000000\n",
              "50%    6.967558e+06   32.000000   28.000000   95.000000\n",
              "75%    6.982924e+06   44.000000   42.000000   95.000000\n",
              "max    7.104722e+06  161.000000  158.000000   99.000000"
            ]
          },
          "metadata": {
            "tags": []
          },
          "execution_count": 32
        }
      ]
    },
    {
      "cell_type": "code",
      "metadata": {
        "id": "h3Q4gog32joF",
        "colab_type": "code",
        "outputId": "936d0dfc-c452-4588-9aa7-9f278354a3a0",
        "colab": {
          "base_uri": "https://localhost:8080/",
          "height": 34
        }
      },
      "source": [
        "from statsmodels.stats.weightstats import ztest\n",
        "ztest(Private1['Percent'], x2=Private2['Percent'], value=0, alternative='two-sided')"
      ],
      "execution_count": 33,
      "outputs": [
        {
          "output_type": "execute_result",
          "data": {
            "text/plain": [
              "(-0.1137088916411627, 0.9094685637325621)"
            ]
          },
          "metadata": {
            "tags": []
          },
          "execution_count": 33
        }
      ]
    },
    {
      "cell_type": "markdown",
      "metadata": {
        "id": "7-LsJFqFO6C5",
        "colab_type": "text"
      },
      "source": [
        "Again, since pval>.01 we fail to reject the null hypothesis"
      ]
    },
    {
      "cell_type": "markdown",
      "metadata": {
        "id": "RawPT1xu5baY",
        "colab_type": "text"
      },
      "source": [
        "##Step 3: Visualization"
      ]
    },
    {
      "cell_type": "markdown",
      "metadata": {
        "id": "o_pR15F58exr",
        "colab_type": "text"
      },
      "source": [
        "Picture 1. Up-to-date by the years 3X\n",
        "\n"
      ]
    },
    {
      "cell_type": "code",
      "metadata": {
        "id": "k7NgLOf1FrVf",
        "colab_type": "code",
        "outputId": "5ee55bc3-2e82-4d46-d77d-775966321059",
        "colab": {
          "base_uri": "https://localhost:8080/",
          "height": 450
        }
      },
      "source": [
        "\n",
        "sns.catplot(x=\"School Year\", y=\"Percent\", color='g', kind='bar', ci=95, data=dfutd, height=6, aspect=1)\n",
        "plt.ylim(30,100)\n",
        "plt.ylabel(\"Average % Up-To-Date\", fontsize=15)\n",
        "plt.xlabel(\"School Year\", fontsize=15)\n",
        "plt.show()"
      ],
      "execution_count": 34,
      "outputs": [
        {
          "output_type": "display_data",
          "data": {
            "image/png": "[encoded data removed]",
            "text/plain": [
              "<Figure size 432x432 with 1 Axes>"
            ]
          },
          "metadata": {
            "tags": []
          }
        }
      ]
    },
    {
      "cell_type": "code",
      "metadata": {
        "id": "JbLoM_oIWGw1",
        "colab_type": "code",
        "outputId": "b42b82f4-0fe0-4c43-f170-89bf8cfc346b",
        "colab": {
          "base_uri": "https://localhost:8080/",
          "height": 450
        }
      },
      "source": [
        "sns.catplot(x=\"School Year\", y=\"Percent\", color='g', kind='bar', ci=95, data=dfutd, height=6, aspect=1)\n",
        "plt.ylim(70,100)\n",
        "plt.ylabel(\"Average % Up-To-Date\", fontsize=15)\n",
        "plt.xlabel(\"School Year\", fontsize=15)\n",
        "plt.show()"
      ],
      "execution_count": 35,
      "outputs": [
        {
          "output_type": "display_data",
          "data": {
            "image/png": "[encoded data removed]",
            "text/plain": [
              "<Figure size 432x432 with 1 Axes>"
            ]
          },
          "metadata": {
            "tags": []
          }
        }
      ]
    },
    {
      "cell_type": "code",
      "metadata": {
        "id": "yzDQ_JvXWeNY",
        "colab_type": "code",
        "outputId": "c4f793de-93b9-4d31-8fa1-981133711363",
        "colab": {
          "base_uri": "https://localhost:8080/",
          "height": 446
        }
      },
      "source": [
        "sns.catplot(x=\"School Year\", y=\"Percent\", color='g', kind='bar', ci=95, data=dfutd, height=6, aspect=1)\n",
        "plt.ylim(85,95)\n",
        "plt.ylabel(\"Average % Up-To-Date\", fontsize=15)\n",
        "plt.xlabel(\"School Year\", fontsize=15)\n",
        "plt.show()"
      ],
      "execution_count": 36,
      "outputs": [
        {
          "output_type": "display_data",
          "data": {
            "image/png": "[encoded data removed]",
            "text/plain": [
              "<Figure size 432x432 with 1 Axes>"
            ]
          },
          "metadata": {
            "tags": []
          }
        }
      ]
    },
    {
      "cell_type": "code",
      "metadata": {
        "id": "BqPLUZGyWlbt",
        "colab_type": "code",
        "outputId": "0070f2e4-e771-472a-bc7e-c41161a8d740",
        "colab": {
          "base_uri": "https://localhost:8080/",
          "height": 450
        }
      },
      "source": [
        "sns.catplot(x=\"School Year\", y=\"Percent\", color='g', kind='bar', ci=95, data=dfutd, height=6, aspect=1)\n",
        "plt.ylim(94,95)\n",
        "plt.ylabel(\"Average % Up-To-Date\", fontsize=15)\n",
        "plt.xlabel(\"School Year\", fontsize=15)\n",
        "plt.show()"
      ],
      "execution_count": 37,
      "outputs": [
        {
          "output_type": "display_data",
          "data": {
            "image/png": "[encoded data removed]",
            "text/plain": [
              "<Figure size 432x432 with 1 Axes>"
            ]
          },
          "metadata": {
            "tags": []
          }
        }
      ]
    },
    {
      "cell_type": "markdown",
      "metadata": {
        "id": "O4MY35VSJ09x",
        "colab_type": "text"
      },
      "source": [
        "Picture 2. Immunizations 2018-2019"
      ]
    },
    {
      "cell_type": "code",
      "metadata": {
        "id": "_KeXLcPNJzdH",
        "colab_type": "code",
        "outputId": "30c6dae8-b79c-414f-c41d-f0152ae0e91d",
        "colab": {
          "base_uri": "https://localhost:8080/",
          "height": 450
        }
      },
      "source": [
        "dfimmune=df20[df20['School Year']=='2018-2019']\n",
        "vaccines=['DTP','POLIO','MMR','HEPB','VARI']\n",
        "dfimmune=dfimmune.loc[dfimmune['Category'].isin(vaccines)]\n",
        "\n",
        "sns.catplot(x=\"Category\", y=\"Percent\", kind='bar', ci=95, data=dfimmune, height=6, aspect=1)\n",
        "plt.ylim(0,100)\n",
        "plt.axhline(y=95,linewidth=2, color='k',linestyle='--')\n",
        "plt.ylabel(\"Average % Immunized\", fontsize=15)\n",
        "plt.xlabel(\"Vaccination Rates 2018-2019\", fontsize=15)\n",
        "plt.show()"
      ],
      "execution_count": 38,
      "outputs": [
        {
          "output_type": "display_data",
          "data": {
            "image/png": "[encoded data removed]",
            "text/plain": [
              "<Figure size 432x432 with 1 Axes>"
            ]
          },
          "metadata": {
            "tags": []
          }
        }
      ]
    },
    {
      "cell_type": "markdown",
      "metadata": {
        "id": "byanLbFOKeGu",
        "colab_type": "text"
      },
      "source": [
        "Picture 3. Counties 2018-2019"
      ]
    },
    {
      "cell_type": "code",
      "metadata": {
        "id": "0krOjTlxKrmc",
        "colab_type": "code",
        "outputId": "a2b0b130-30d3-4159-e906-bcf948f792eb",
        "colab": {
          "base_uri": "https://localhost:8080/",
          "height": 582
        }
      },
      "source": [
        "df89=df89.sort_values('County')\n",
        "sns.catplot(x=\"County\", y=\"Percent\", color='g', kind='bar', ci=95, data=df89, height=6, aspect=4, errcolor='k')\n",
        "plt.ylim(0,100)\n",
        "plt.axhline(y=95,linewidth=2, color='r',linestyle='--')\n",
        "plt.xticks(rotation=90, fontsize=13)\n",
        "plt.ylabel(\"Average % Up-To-Date\", fontsize=20)\n",
        "plt.xlabel(\"County\", fontsize=20)\n",
        "plt.show()"
      ],
      "execution_count": 39,
      "outputs": [
        {
          "output_type": "display_data",
          "data": {
            "image/png": "[encoded data removed]",
            "text/plain": [
              "<Figure size 1728x432 with 1 Axes>"
            ]
          },
          "metadata": {
            "tags": []
          }
        }
      ]
    },
    {
      "cell_type": "markdown",
      "metadata": {
        "id": "tGqjwzz2crDX",
        "colab_type": "text"
      },
      "source": [
        "Orange County Immunity"
      ]
    },
    {
      "cell_type": "code",
      "metadata": {
        "id": "OX6n1VRRgz9m",
        "colab_type": "code",
        "outputId": "c001e803-10f8-4105-ea6e-51fb41512169",
        "colab": {
          "base_uri": "https://localhost:8080/",
          "height": 450
        }
      },
      "source": [
        "Orange=dfimmune[dfimmune['County']=='ORANGE']\n",
        "sns.catplot(x=\"Category\", y=\"Percent\", kind='bar', ci=95, data=Orange, height=6, aspect=1, errcolor='k')\n",
        "plt.ylim(0,100)\n",
        "plt.axhline(y=95,linewidth=2, color='k',linestyle='--')\n",
        "plt.ylabel(\"Average Immunization % in Orange County\", fontsize=15)\n",
        "plt.xlabel(\"Vaccination\", fontsize=15)\n",
        "plt.show()"
      ],
      "execution_count": 40,
      "outputs": [
        {
          "output_type": "display_data",
          "data": {
            "image/png": "[encoded data removed]",
            "text/plain": [
              "<Figure size 432x432 with 1 Axes>"
            ]
          },
          "metadata": {
            "tags": []
          }
        }
      ]
    },
    {
      "cell_type": "markdown",
      "metadata": {
        "id": "GwgA0OEvKsHO",
        "colab_type": "text"
      },
      "source": [
        "Orange County City Rates"
      ]
    },
    {
      "cell_type": "code",
      "metadata": {
        "id": "qO4X_kNOiRK5",
        "colab_type": "code",
        "outputId": "42b0164f-a276-4ce9-8a1b-ccb52afee759",
        "colab": {
          "base_uri": "https://localhost:8080/",
          "height": 651
        }
      },
      "source": [
        "sns.catplot(x=\"City\", y=\"Percent\", hue=\"Category\", kind='bar', ci=95, data=Orange, height=6, aspect=4, errcolor='k')\n",
        "plt.ylim(0,100)\n",
        "plt.axhline(y=95,linewidth=2, color='r',linestyle='--')\n",
        "plt.xticks(rotation=90, fontsize=13)\n",
        "plt.ylabel(\"Average Immunization %\", fontsize=20)\n",
        "plt.xlabel(\"City in Orange County\", fontsize=20)\n",
        "plt.show()"
      ],
      "execution_count": 41,
      "outputs": [
        {
          "output_type": "display_data",
          "data": {
            "image/png": "[encoded data removed]",
            "text/plain": [
              "<Figure size 1793.88x432 with 1 Axes>"
            ]
          },
          "metadata": {
            "tags": []
          }
        }
      ]
    }
  ]
}